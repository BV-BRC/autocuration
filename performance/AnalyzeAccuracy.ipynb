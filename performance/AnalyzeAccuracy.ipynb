{
 "cells": [
  {
   "cell_type": "markdown",
   "id": "a3d31abe-e518-46f1-8f2d-36e8c4e4fed2",
   "metadata": {},
   "source": [
    "# Analyze Accuracy of the Autocuration Pipeline"
   ]
  },
  {
   "cell_type": "markdown",
   "id": "a8ff7733-bf91-4b82-87bd-f6de00717343",
   "metadata": {},
   "source": [
    "This notebook analyzes the performance of the Influenza Autocuration pipeline on sequences that were already flagged in IRD.  Sequences from species A-D were downloaded from legacy IRD and the pipeline was applied to each species' set of sequences. Results from each set of sequences were saved by generating a table that listed column for 'Accession', 'Actual Flag', 'My Flag', and 'Profile'.  The 'Actual Flag' and 'My Flag' columns could be compared to assess performance.  This said, there are five possible results of performance that need to be kept in mind.  The five possibilities are the following:\n",
    "\n",
    "(1) actual = Pass | mine = Pass\n",
    "\n",
    "(2) actual = Pass | mine = Flag_A\n",
    "\n",
    "(3) actual = Flag_A | mine = Pass\n",
    "\n",
    "(4) actual = Flag_A | mine = Flag_A\n",
    "\n",
    "(5) actual = Flag_A | mine = Flag_B\n",
    "\n",
    "To account for these five possiblities, this performance analysis measures (1) the precision of determining a 'pass' sequence (pass precision), (2) the precision of determing a 'flag' sequence (flag precision), (3) the rate at which actual pass sequences are labeled with pass (pass recall), (4) the rate at which actual flag sequences are labeled with a flag (flag recall), (5) the accuracy of assigning the correct anotation(s) to a flagged sequence (flag accuracy), and finally (6) the overall accuracy in determining the correct annotation.\n",
    "\n",
    "MAFFT and MUSCLE are the alignment options in this pipeline. That said, performance gets analyzed in three stages, two stages for MAFFT (one with utilization of gap penalty and one without) and one stage for MUSCLE."
   ]
  },
  {
   "cell_type": "code",
   "execution_count": 1,
   "id": "f1c7e286-d76f-4bef-ba85-d1fe9fc2797c",
   "metadata": {},
   "outputs": [],
   "source": [
    "import os\n",
    "import sys\n",
    "import pandas as pd\n",
    "import numpy as np\n",
    "import warnings\n",
    "warnings.filterwarnings(\"ignore\")"
   ]
  },
  {
   "cell_type": "markdown",
   "id": "846e8aed-2f01-4a54-a279-1be439d27530",
   "metadata": {},
   "source": [
    "# Functions for Performance"
   ]
  },
  {
   "cell_type": "code",
   "execution_count": 2,
   "id": "65b2ab6c-2a36-4ab9-bde6-46f1266af351",
   "metadata": {},
   "outputs": [],
   "source": [
    "def pass_flag_confusion(theirs, mine):\n",
    "    \n",
    "    mat = pd.DataFrame([[0,0],[0,0]], index=['Pass_IRD', 'Flag_IRD'], columns=['Pass_Mine', 'Flag_Mine'])\n",
    "    \n",
    "    for i in range(len(theirs)):\n",
    "        if theirs[i] == 'Pass' and mine[i] == 'Pass':\n",
    "            mat.at['Pass_IRD', 'Pass_Mine'] += 1\n",
    "        elif theirs[i] == 'Pass' and mine[i] != 'Pass':\n",
    "            mat.at['Pass_IRD', 'Flag_Mine'] += 1\n",
    "        elif theirs[i] != 'Pass' and mine[i] == 'Pass':\n",
    "            mat.at['Flag_IRD', 'Pass_Mine'] += 1\n",
    "        elif theirs[i] != 'Pass' and mine[i] != 'Pass':\n",
    "            mat.at['Flag_IRD', 'Flag_Mine'] += 1\n",
    "    \n",
    "    return(mat)\n",
    "\n",
    "\n",
    "def corr_incorr_confusion(theirs, mine):\n",
    "    \n",
    "    mat = pd.DataFrame([[0,0],[0,0]], index=['Pass_IRD', 'Flag_IRD'], columns=['Match', 'No Match'])\n",
    "    \n",
    "    for i in range(len(theirs)):\n",
    "        if theirs[i] == 'Pass' and mine[i] == 'Pass':\n",
    "            mat.at['Pass_IRD', 'Match'] += 1\n",
    "        elif theirs[i] == 'Pass' and mine[i] != 'Pass':\n",
    "            mat.at['Pass_IRD', 'No Match'] += 1\n",
    "        elif theirs[i] != 'Pass' and theirs[i] == mine[i]:\n",
    "            mat.at['Flag_IRD', 'Match'] += 1\n",
    "        elif theirs[i] != 'Pass' and theirs[i] != mine[i]:\n",
    "            mat.at['Flag_IRD', 'No Match'] += 1\n",
    "    \n",
    "    return(mat)    "
   ]
  },
  {
   "cell_type": "code",
   "execution_count": 3,
   "id": "101d87be-0f2b-464f-8b17-e9b9ecccc180",
   "metadata": {},
   "outputs": [],
   "source": [
    "# True Pass / True Pass + False Pass\n",
    "def pass_precision(mat):\n",
    "    \n",
    "    return((mat['Pass_Mine']['Pass_IRD'])/(mat['Pass_Mine']['Pass_IRD'] + mat['Pass_Mine']['Flag_IRD']))\n",
    "\n",
    "# True Pass / True Pass + False Flag (Also 'True Pass Rate' and 'Pass Accuracy')\n",
    "def pass_recall(mat):\n",
    "    \n",
    "    return((mat['Pass_Mine']['Pass_IRD'])/(mat['Pass_Mine']['Pass_IRD'] + mat['Flag_Mine']['Pass_IRD']))\n",
    "\n",
    "# True Flag / True Flag + False Flag\n",
    "def flag_precision(mat):\n",
    "    \n",
    "    return((mat['Flag_Mine']['Flag_IRD'])/(mat['Flag_Mine']['Flag_IRD'] + mat['Flag_Mine']['Pass_IRD']))\n",
    "\n",
    "# True Flag / True Flag + False Pass (Also 'True Flag Rate')\n",
    "def flag_recall(mat):\n",
    "    \n",
    "    return((mat['Flag_Mine']['Flag_IRD'])/(mat['Flag_Mine']['Flag_IRD'] + mat['Pass_Mine']['Flag_IRD'])) \n",
    "\n",
    "# How well flagged sequences actually got designated with the correct flag\n",
    "def flag_accuracy(mat):\n",
    "    \n",
    "    return((mat['Match']['Flag_IRD'])/(mat['Match']['Flag_IRD'] + mat['No Match']['Flag_IRD']))\n",
    "\n",
    "# How well 'My Flag' matches 'Actual Flag'\n",
    "def overall_accuracy(mat):\n",
    "    \n",
    "    return((mat['Match']['Pass_IRD'] + mat['Match']['Flag_IRD'])/(mat['Match']['Pass_IRD'] + mat['Match']['Flag_IRD'] + mat['No Match']['Pass_IRD'] + mat['No Match']['Flag_IRD']))"
   ]
  },
  {
   "cell_type": "code",
   "execution_count": 4,
   "id": "39902d11-b80c-481d-9c0c-6c8672ac2eda",
   "metadata": {},
   "outputs": [],
   "source": [
    "def performance(flu_results):\n",
    "    flu_results = flu_results[(flu_results['Profile'] != 'Unknown')]\n",
    "    actual = list(flu_results['Actual Flag'])\n",
    "    pred = list(flu_results['My Flag'])\n",
    "    confusion1 = pass_flag_confusion(actual, pred)\n",
    "    confusion2 = corr_incorr_confusion(actual, pred)\n",
    "    \n",
    "    print(\"Pass precision:\", round(pass_precision(confusion1), 3))\n",
    "    print(\"Pass recall (Pass accuracy):\", round(pass_recall(confusion1), 3))\n",
    "    print('\\n')\n",
    "    print(\"Flag precision:\", round(flag_precision(confusion1), 3))\n",
    "    print(\"Flag recall:\", round(flag_recall(confusion1), 3))\n",
    "    print('\\n')\n",
    "    print(\"Flag accuracy:\", round(flag_accuracy(confusion2), 3))\n",
    "    print(\"Overall accuracy:\", round(overall_accuracy(confusion2), 3))\n",
    "    \n",
    "    return(confusion1, confusion2)"
   ]
  },
  {
   "cell_type": "code",
   "execution_count": 5,
   "id": "88603832-3334-4535-90af-2725c8799cff",
   "metadata": {},
   "outputs": [],
   "source": [
    "def overall_results_df(mafft_p, mafft_np, muscle):\n",
    "    \n",
    "    mat = pd.DataFrame([[0.1,0.1,0.1],[0.1,0.1,0.1],[0.1,0.1,0.1],[0.1,0.1,0.1],[0.1,0.1,0.1],[0.1,0.1,0.1]], \n",
    "                        index=['Pass Precision','Pass Recall','Flag Precision','Flag Recall','Flag Accuracy','Overall Accuracy'], \n",
    "                        columns=['MAFFT Penalized', 'MAFFT No Penalty', 'MUSCLE'])\n",
    "    \n",
    "    confusion1, confusion2 = performance(mafft_p)\n",
    "    mat.at['Pass Precision', 'MAFFT Penalized'] = float(round(pass_precision(confusion1), 3))\n",
    "    mat.at['Pass Recall', 'MAFFT Penalized'] = float(round(pass_recall(confusion1), 3))\n",
    "    mat.at['Flag Precision', 'MAFFT Penalized'] = float(round(flag_precision(confusion1), 3))\n",
    "    mat.at['Flag Recall', 'MAFFT Penalized'] = float(round(flag_recall(confusion1), 3))\n",
    "    mat.at['Flag Accuracy', 'MAFFT Penalized'] = float(round(flag_accuracy(confusion2), 3))\n",
    "    mat.at['Overall Accuracy', 'MAFFT Penalized'] = float(round(overall_accuracy(confusion2), 3))\n",
    "    \n",
    "    confusion1, confusion2 = performance(mafft_np)\n",
    "    mat.at['Pass Precision', 'MAFFT No Penalty'] = float(round(pass_precision(confusion1), 3))\n",
    "    mat.at['Pass Recall', 'MAFFT No Penalty'] = float(round(pass_recall(confusion1), 3))\n",
    "    mat.at['Flag Precision', 'MAFFT No Penalty'] = float(round(flag_precision(confusion1), 3))\n",
    "    mat.at['Flag Recall', 'MAFFT No Penalty'] = float(round(flag_recall(confusion1), 3))\n",
    "    mat.at['Flag Accuracy', 'MAFFT No Penalty'] = float(round(flag_accuracy(confusion2), 3))\n",
    "    mat.at['Overall Accuracy', 'MAFFT No Penalty'] = float(round(overall_accuracy(confusion2), 3))\n",
    "    \n",
    "    confusion1, confusion2 = performance(muscle)\n",
    "    mat.at['Pass Precision', 'MUSCLE'] = float(round(pass_precision(confusion1), 3))\n",
    "    mat.at['Pass Recall', 'MUSCLE'] = float(round(pass_recall(confusion1), 3))\n",
    "    mat.at['Flag Precision', 'MUSCLE'] = float(round(flag_precision(confusion1), 3))\n",
    "    mat.at['Flag Recall', 'MUSCLE'] = float(round(flag_recall(confusion1), 3))\n",
    "    mat.at['Flag Accuracy', 'MUSCLE'] = float(round(flag_accuracy(confusion2), 3))\n",
    "    mat.at['Overall Accuracy', 'MUSCLE'] = float(round(overall_accuracy(confusion2), 3))\n",
    "    \n",
    "    return(mat)\n",
    "    "
   ]
  },
  {
   "cell_type": "markdown",
   "id": "8f6cbd00-f3af-4aa2-b49e-f1257087518d",
   "metadata": {},
   "source": [
    "# Data loading"
   ]
  },
  {
   "cell_type": "code",
   "execution_count": 6,
   "id": "e4f5d3f3-bb24-475a-b623-ef0766c9c18e",
   "metadata": {},
   "outputs": [],
   "source": [
    "fluA_mafft_p = pd.read_csv(\"InfluenzaA_mafft_1.csv\")\n",
    "fluB_mafft_p = pd.read_csv(\"InfluenzaB_mafft_1.csv\")\n",
    "fluC_mafft_p = pd.read_csv(\"InfluenzaC_mafft_1.csv\")\n",
    "fluD_mafft_p = pd.read_csv(\"InfluenzaD_mafft_1.csv\")\n",
    "fluA_mafft_np = pd.read_csv(\"InfluenzaA_mafft_2.csv\")\n",
    "fluB_mafft_np = pd.read_csv(\"InfluenzaB_mafft_2.csv\")\n",
    "fluC_mafft_np = pd.read_csv(\"InfluenzaC_mafft_2.csv\")\n",
    "fluD_mafft_np = pd.read_csv(\"InfluenzaD_mafft_2.csv\")\n",
    "fluA_muscle = pd.read_csv(\"InfluenzaA_muscle.csv\")\n",
    "fluB_muscle = pd.read_csv(\"InfluenzaB_muscle.csv\")\n",
    "fluC_muscle = pd.read_csv(\"InfluenzaC_muscle.csv\")\n",
    "fluD_muscle = pd.read_csv(\"InfluenzaD_muscle.csv\")"
   ]
  },
  {
   "cell_type": "markdown",
   "id": "89ca5984-1f2b-46df-939b-8ca15c56bb27",
   "metadata": {},
   "source": [
    "# (1) Performance of MAFFT With Gap Penalty "
   ]
  },
  {
   "cell_type": "markdown",
   "id": "8483c5a0-50d1-4ca6-8379-0981145f7fdc",
   "metadata": {},
   "source": [
    "## Influenza A Results"
   ]
  },
  {
   "cell_type": "code",
   "execution_count": 7,
   "id": "6462feb3-11b7-4581-ab52-6aee2bec28ae",
   "metadata": {},
   "outputs": [
    {
     "name": "stdout",
     "output_type": "stream",
     "text": [
      "Pass precision: 0.94\n",
      "Pass recall (Pass accuracy): 0.979\n",
      "\n",
      "\n",
      "Flag precision: 0.971\n",
      "Flag recall: 0.919\n",
      "\n",
      "\n",
      "Flag accuracy: 0.843\n",
      "Overall accuracy: 0.92\n"
     ]
    }
   ],
   "source": [
    "confusion1, confusion2 = performance(fluA_mafft_p)"
   ]
  },
  {
   "cell_type": "code",
   "execution_count": 8,
   "id": "e2220634-6d5f-4dbb-828c-4095b77e0c37",
   "metadata": {},
   "outputs": [
    {
     "data": {
      "text/html": [
       "<div>\n",
       "<style scoped>\n",
       "    .dataframe tbody tr th:only-of-type {\n",
       "        vertical-align: middle;\n",
       "    }\n",
       "\n",
       "    .dataframe tbody tr th {\n",
       "        vertical-align: top;\n",
       "    }\n",
       "\n",
       "    .dataframe thead th {\n",
       "        text-align: right;\n",
       "    }\n",
       "</style>\n",
       "<table border=\"1\" class=\"dataframe\">\n",
       "  <thead>\n",
       "    <tr style=\"text-align: right;\">\n",
       "      <th></th>\n",
       "      <th>Pass_Mine</th>\n",
       "      <th>Flag_Mine</th>\n",
       "    </tr>\n",
       "  </thead>\n",
       "  <tbody>\n",
       "    <tr>\n",
       "      <th>Pass_IRD</th>\n",
       "      <td>989</td>\n",
       "      <td>21</td>\n",
       "    </tr>\n",
       "    <tr>\n",
       "      <th>Flag_IRD</th>\n",
       "      <td>63</td>\n",
       "      <td>714</td>\n",
       "    </tr>\n",
       "  </tbody>\n",
       "</table>\n",
       "</div>"
      ],
      "text/plain": [
       "          Pass_Mine  Flag_Mine\n",
       "Pass_IRD        989         21\n",
       "Flag_IRD         63        714"
      ]
     },
     "execution_count": 8,
     "metadata": {},
     "output_type": "execute_result"
    }
   ],
   "source": [
    "confusion1"
   ]
  },
  {
   "cell_type": "code",
   "execution_count": 9,
   "id": "beb3e1f0-0355-4bdb-8b08-33d38cf854fa",
   "metadata": {},
   "outputs": [
    {
     "data": {
      "text/html": [
       "<div>\n",
       "<style scoped>\n",
       "    .dataframe tbody tr th:only-of-type {\n",
       "        vertical-align: middle;\n",
       "    }\n",
       "\n",
       "    .dataframe tbody tr th {\n",
       "        vertical-align: top;\n",
       "    }\n",
       "\n",
       "    .dataframe thead th {\n",
       "        text-align: right;\n",
       "    }\n",
       "</style>\n",
       "<table border=\"1\" class=\"dataframe\">\n",
       "  <thead>\n",
       "    <tr style=\"text-align: right;\">\n",
       "      <th></th>\n",
       "      <th>Match</th>\n",
       "      <th>No Match</th>\n",
       "    </tr>\n",
       "  </thead>\n",
       "  <tbody>\n",
       "    <tr>\n",
       "      <th>Pass_IRD</th>\n",
       "      <td>989</td>\n",
       "      <td>21</td>\n",
       "    </tr>\n",
       "    <tr>\n",
       "      <th>Flag_IRD</th>\n",
       "      <td>655</td>\n",
       "      <td>122</td>\n",
       "    </tr>\n",
       "  </tbody>\n",
       "</table>\n",
       "</div>"
      ],
      "text/plain": [
       "          Match  No Match\n",
       "Pass_IRD    989        21\n",
       "Flag_IRD    655       122"
      ]
     },
     "execution_count": 9,
     "metadata": {},
     "output_type": "execute_result"
    }
   ],
   "source": [
    "confusion2"
   ]
  },
  {
   "cell_type": "markdown",
   "id": "ca7362fd-550a-4169-ada0-165b69887b73",
   "metadata": {},
   "source": [
    "## Influenza B Results"
   ]
  },
  {
   "cell_type": "code",
   "execution_count": 10,
   "id": "2e38ab91-5223-47b4-b3f6-3d2309ee0a6c",
   "metadata": {},
   "outputs": [
    {
     "name": "stdout",
     "output_type": "stream",
     "text": [
      "Pass precision: 0.955\n",
      "Pass recall (Pass accuracy): 0.802\n",
      "\n",
      "\n",
      "Flag precision: 0.666\n",
      "Flag recall: 0.912\n",
      "\n",
      "\n",
      "Flag accuracy: 0.875\n",
      "Overall accuracy: 0.824\n"
     ]
    }
   ],
   "source": [
    "confusion1, confusion2 = performance(fluB_mafft_p)"
   ]
  },
  {
   "cell_type": "code",
   "execution_count": 11,
   "id": "e6e5e23e-a0d5-442b-832f-b86322b560be",
   "metadata": {},
   "outputs": [
    {
     "data": {
      "text/html": [
       "<div>\n",
       "<style scoped>\n",
       "    .dataframe tbody tr th:only-of-type {\n",
       "        vertical-align: middle;\n",
       "    }\n",
       "\n",
       "    .dataframe tbody tr th {\n",
       "        vertical-align: top;\n",
       "    }\n",
       "\n",
       "    .dataframe thead th {\n",
       "        text-align: right;\n",
       "    }\n",
       "</style>\n",
       "<table border=\"1\" class=\"dataframe\">\n",
       "  <thead>\n",
       "    <tr style=\"text-align: right;\">\n",
       "      <th></th>\n",
       "      <th>Pass_Mine</th>\n",
       "      <th>Flag_Mine</th>\n",
       "    </tr>\n",
       "  </thead>\n",
       "  <tbody>\n",
       "    <tr>\n",
       "      <th>Pass_IRD</th>\n",
       "      <td>401</td>\n",
       "      <td>99</td>\n",
       "    </tr>\n",
       "    <tr>\n",
       "      <th>Flag_IRD</th>\n",
       "      <td>19</td>\n",
       "      <td>197</td>\n",
       "    </tr>\n",
       "  </tbody>\n",
       "</table>\n",
       "</div>"
      ],
      "text/plain": [
       "          Pass_Mine  Flag_Mine\n",
       "Pass_IRD        401         99\n",
       "Flag_IRD         19        197"
      ]
     },
     "execution_count": 11,
     "metadata": {},
     "output_type": "execute_result"
    }
   ],
   "source": [
    "confusion1"
   ]
  },
  {
   "cell_type": "code",
   "execution_count": 12,
   "id": "adb79a16-7cba-43f9-9142-17be29a6588f",
   "metadata": {},
   "outputs": [
    {
     "data": {
      "text/html": [
       "<div>\n",
       "<style scoped>\n",
       "    .dataframe tbody tr th:only-of-type {\n",
       "        vertical-align: middle;\n",
       "    }\n",
       "\n",
       "    .dataframe tbody tr th {\n",
       "        vertical-align: top;\n",
       "    }\n",
       "\n",
       "    .dataframe thead th {\n",
       "        text-align: right;\n",
       "    }\n",
       "</style>\n",
       "<table border=\"1\" class=\"dataframe\">\n",
       "  <thead>\n",
       "    <tr style=\"text-align: right;\">\n",
       "      <th></th>\n",
       "      <th>Match</th>\n",
       "      <th>No Match</th>\n",
       "    </tr>\n",
       "  </thead>\n",
       "  <tbody>\n",
       "    <tr>\n",
       "      <th>Pass_IRD</th>\n",
       "      <td>401</td>\n",
       "      <td>99</td>\n",
       "    </tr>\n",
       "    <tr>\n",
       "      <th>Flag_IRD</th>\n",
       "      <td>189</td>\n",
       "      <td>27</td>\n",
       "    </tr>\n",
       "  </tbody>\n",
       "</table>\n",
       "</div>"
      ],
      "text/plain": [
       "          Match  No Match\n",
       "Pass_IRD    401        99\n",
       "Flag_IRD    189        27"
      ]
     },
     "execution_count": 12,
     "metadata": {},
     "output_type": "execute_result"
    }
   ],
   "source": [
    "confusion2"
   ]
  },
  {
   "cell_type": "markdown",
   "id": "7b767240-e009-414b-b38d-1d46083d8e2d",
   "metadata": {},
   "source": [
    "## Influenza C Results"
   ]
  },
  {
   "cell_type": "code",
   "execution_count": 13,
   "id": "1d3fae19-d232-43f7-a6be-89f9427f2628",
   "metadata": {},
   "outputs": [
    {
     "name": "stdout",
     "output_type": "stream",
     "text": [
      "Pass precision: 1.0\n",
      "Pass recall (Pass accuracy): 0.986\n",
      "\n",
      "\n",
      "Flag precision: 0.0\n",
      "Flag recall: nan\n",
      "\n",
      "\n",
      "Flag accuracy: nan\n",
      "Overall accuracy: 0.986\n"
     ]
    }
   ],
   "source": [
    "confusion1, confusion2 = performance(fluC_mafft_p)"
   ]
  },
  {
   "cell_type": "code",
   "execution_count": 14,
   "id": "cd0008af-ed58-46ea-a0c2-d51f7aa825c9",
   "metadata": {},
   "outputs": [
    {
     "data": {
      "text/html": [
       "<div>\n",
       "<style scoped>\n",
       "    .dataframe tbody tr th:only-of-type {\n",
       "        vertical-align: middle;\n",
       "    }\n",
       "\n",
       "    .dataframe tbody tr th {\n",
       "        vertical-align: top;\n",
       "    }\n",
       "\n",
       "    .dataframe thead th {\n",
       "        text-align: right;\n",
       "    }\n",
       "</style>\n",
       "<table border=\"1\" class=\"dataframe\">\n",
       "  <thead>\n",
       "    <tr style=\"text-align: right;\">\n",
       "      <th></th>\n",
       "      <th>Pass_Mine</th>\n",
       "      <th>Flag_Mine</th>\n",
       "    </tr>\n",
       "  </thead>\n",
       "  <tbody>\n",
       "    <tr>\n",
       "      <th>Pass_IRD</th>\n",
       "      <td>69</td>\n",
       "      <td>1</td>\n",
       "    </tr>\n",
       "    <tr>\n",
       "      <th>Flag_IRD</th>\n",
       "      <td>0</td>\n",
       "      <td>0</td>\n",
       "    </tr>\n",
       "  </tbody>\n",
       "</table>\n",
       "</div>"
      ],
      "text/plain": [
       "          Pass_Mine  Flag_Mine\n",
       "Pass_IRD         69          1\n",
       "Flag_IRD          0          0"
      ]
     },
     "execution_count": 14,
     "metadata": {},
     "output_type": "execute_result"
    }
   ],
   "source": [
    "confusion1"
   ]
  },
  {
   "cell_type": "code",
   "execution_count": 15,
   "id": "5e3242f3-7491-4507-8fcf-ac5f7be73125",
   "metadata": {},
   "outputs": [
    {
     "data": {
      "text/html": [
       "<div>\n",
       "<style scoped>\n",
       "    .dataframe tbody tr th:only-of-type {\n",
       "        vertical-align: middle;\n",
       "    }\n",
       "\n",
       "    .dataframe tbody tr th {\n",
       "        vertical-align: top;\n",
       "    }\n",
       "\n",
       "    .dataframe thead th {\n",
       "        text-align: right;\n",
       "    }\n",
       "</style>\n",
       "<table border=\"1\" class=\"dataframe\">\n",
       "  <thead>\n",
       "    <tr style=\"text-align: right;\">\n",
       "      <th></th>\n",
       "      <th>Match</th>\n",
       "      <th>No Match</th>\n",
       "    </tr>\n",
       "  </thead>\n",
       "  <tbody>\n",
       "    <tr>\n",
       "      <th>Pass_IRD</th>\n",
       "      <td>69</td>\n",
       "      <td>1</td>\n",
       "    </tr>\n",
       "    <tr>\n",
       "      <th>Flag_IRD</th>\n",
       "      <td>0</td>\n",
       "      <td>0</td>\n",
       "    </tr>\n",
       "  </tbody>\n",
       "</table>\n",
       "</div>"
      ],
      "text/plain": [
       "          Match  No Match\n",
       "Pass_IRD     69         1\n",
       "Flag_IRD      0         0"
      ]
     },
     "execution_count": 15,
     "metadata": {},
     "output_type": "execute_result"
    }
   ],
   "source": [
    "confusion2"
   ]
  },
  {
   "cell_type": "markdown",
   "id": "f95833da-e11b-4f97-a4fe-2c833f847f05",
   "metadata": {},
   "source": [
    "## Influenza D Results"
   ]
  },
  {
   "cell_type": "code",
   "execution_count": 16,
   "id": "db654d75-b621-4ad0-b25a-8b3b5ccd2066",
   "metadata": {},
   "outputs": [
    {
     "name": "stdout",
     "output_type": "stream",
     "text": [
      "Pass precision: 1.0\n",
      "Pass recall (Pass accuracy): 1.0\n",
      "\n",
      "\n",
      "Flag precision: 1.0\n",
      "Flag recall: 1.0\n",
      "\n",
      "\n",
      "Flag accuracy: 0.565\n",
      "Overall accuracy: 0.964\n"
     ]
    }
   ],
   "source": [
    "confusion1, confusion2 = performance(fluD_mafft_p)"
   ]
  },
  {
   "cell_type": "code",
   "execution_count": 17,
   "id": "e7847822-f795-4bd8-9778-4daa44ddd3cf",
   "metadata": {},
   "outputs": [
    {
     "data": {
      "text/html": [
       "<div>\n",
       "<style scoped>\n",
       "    .dataframe tbody tr th:only-of-type {\n",
       "        vertical-align: middle;\n",
       "    }\n",
       "\n",
       "    .dataframe tbody tr th {\n",
       "        vertical-align: top;\n",
       "    }\n",
       "\n",
       "    .dataframe thead th {\n",
       "        text-align: right;\n",
       "    }\n",
       "</style>\n",
       "<table border=\"1\" class=\"dataframe\">\n",
       "  <thead>\n",
       "    <tr style=\"text-align: right;\">\n",
       "      <th></th>\n",
       "      <th>Pass_Mine</th>\n",
       "      <th>Flag_Mine</th>\n",
       "    </tr>\n",
       "  </thead>\n",
       "  <tbody>\n",
       "    <tr>\n",
       "      <th>Pass_IRD</th>\n",
       "      <td>253</td>\n",
       "      <td>0</td>\n",
       "    </tr>\n",
       "    <tr>\n",
       "      <th>Flag_IRD</th>\n",
       "      <td>0</td>\n",
       "      <td>23</td>\n",
       "    </tr>\n",
       "  </tbody>\n",
       "</table>\n",
       "</div>"
      ],
      "text/plain": [
       "          Pass_Mine  Flag_Mine\n",
       "Pass_IRD        253          0\n",
       "Flag_IRD          0         23"
      ]
     },
     "execution_count": 17,
     "metadata": {},
     "output_type": "execute_result"
    }
   ],
   "source": [
    "confusion1"
   ]
  },
  {
   "cell_type": "code",
   "execution_count": 18,
   "id": "1aa07e0e-6a32-4a44-acd4-b13ab9fa9fd5",
   "metadata": {},
   "outputs": [
    {
     "data": {
      "text/html": [
       "<div>\n",
       "<style scoped>\n",
       "    .dataframe tbody tr th:only-of-type {\n",
       "        vertical-align: middle;\n",
       "    }\n",
       "\n",
       "    .dataframe tbody tr th {\n",
       "        vertical-align: top;\n",
       "    }\n",
       "\n",
       "    .dataframe thead th {\n",
       "        text-align: right;\n",
       "    }\n",
       "</style>\n",
       "<table border=\"1\" class=\"dataframe\">\n",
       "  <thead>\n",
       "    <tr style=\"text-align: right;\">\n",
       "      <th></th>\n",
       "      <th>Match</th>\n",
       "      <th>No Match</th>\n",
       "    </tr>\n",
       "  </thead>\n",
       "  <tbody>\n",
       "    <tr>\n",
       "      <th>Pass_IRD</th>\n",
       "      <td>253</td>\n",
       "      <td>0</td>\n",
       "    </tr>\n",
       "    <tr>\n",
       "      <th>Flag_IRD</th>\n",
       "      <td>13</td>\n",
       "      <td>10</td>\n",
       "    </tr>\n",
       "  </tbody>\n",
       "</table>\n",
       "</div>"
      ],
      "text/plain": [
       "          Match  No Match\n",
       "Pass_IRD    253         0\n",
       "Flag_IRD     13        10"
      ]
     },
     "execution_count": 18,
     "metadata": {},
     "output_type": "execute_result"
    }
   ],
   "source": [
    "confusion2"
   ]
  },
  {
   "cell_type": "markdown",
   "id": "9d88abfe-d95f-49a9-a71e-424f65ba3e47",
   "metadata": {},
   "source": [
    "## Overall Results"
   ]
  },
  {
   "cell_type": "code",
   "execution_count": 19,
   "id": "e262b6b1-e31a-43e7-8dea-ec3f7c20bf25",
   "metadata": {},
   "outputs": [
    {
     "name": "stdout",
     "output_type": "stream",
     "text": [
      "Pass precision: 0.954\n",
      "Pass recall (Pass accuracy): 0.934\n",
      "\n",
      "\n",
      "Flag precision: 0.885\n",
      "Flag recall: 0.919\n",
      "\n",
      "\n",
      "Flag accuracy: 0.844\n",
      "Overall accuracy: 0.902\n"
     ]
    }
   ],
   "source": [
    "overall_mafft_p = pd.concat([fluA_mafft_p, fluB_mafft_p, fluC_mafft_p, fluD_mafft_p], axis = 0)\n",
    "confusion1, confusion2 = performance(overall_mafft_p)"
   ]
  },
  {
   "cell_type": "code",
   "execution_count": 20,
   "id": "66a33629-ab7e-4112-84c4-887687a845bf",
   "metadata": {},
   "outputs": [
    {
     "data": {
      "text/html": [
       "<div>\n",
       "<style scoped>\n",
       "    .dataframe tbody tr th:only-of-type {\n",
       "        vertical-align: middle;\n",
       "    }\n",
       "\n",
       "    .dataframe tbody tr th {\n",
       "        vertical-align: top;\n",
       "    }\n",
       "\n",
       "    .dataframe thead th {\n",
       "        text-align: right;\n",
       "    }\n",
       "</style>\n",
       "<table border=\"1\" class=\"dataframe\">\n",
       "  <thead>\n",
       "    <tr style=\"text-align: right;\">\n",
       "      <th></th>\n",
       "      <th>Pass_Mine</th>\n",
       "      <th>Flag_Mine</th>\n",
       "    </tr>\n",
       "  </thead>\n",
       "  <tbody>\n",
       "    <tr>\n",
       "      <th>Pass_IRD</th>\n",
       "      <td>1712</td>\n",
       "      <td>121</td>\n",
       "    </tr>\n",
       "    <tr>\n",
       "      <th>Flag_IRD</th>\n",
       "      <td>82</td>\n",
       "      <td>934</td>\n",
       "    </tr>\n",
       "  </tbody>\n",
       "</table>\n",
       "</div>"
      ],
      "text/plain": [
       "          Pass_Mine  Flag_Mine\n",
       "Pass_IRD       1712        121\n",
       "Flag_IRD         82        934"
      ]
     },
     "execution_count": 20,
     "metadata": {},
     "output_type": "execute_result"
    }
   ],
   "source": [
    "confusion1"
   ]
  },
  {
   "cell_type": "code",
   "execution_count": 21,
   "id": "6afa9f61-2762-4f74-944a-a4550464490c",
   "metadata": {},
   "outputs": [
    {
     "data": {
      "text/html": [
       "<div>\n",
       "<style scoped>\n",
       "    .dataframe tbody tr th:only-of-type {\n",
       "        vertical-align: middle;\n",
       "    }\n",
       "\n",
       "    .dataframe tbody tr th {\n",
       "        vertical-align: top;\n",
       "    }\n",
       "\n",
       "    .dataframe thead th {\n",
       "        text-align: right;\n",
       "    }\n",
       "</style>\n",
       "<table border=\"1\" class=\"dataframe\">\n",
       "  <thead>\n",
       "    <tr style=\"text-align: right;\">\n",
       "      <th></th>\n",
       "      <th>Match</th>\n",
       "      <th>No Match</th>\n",
       "    </tr>\n",
       "  </thead>\n",
       "  <tbody>\n",
       "    <tr>\n",
       "      <th>Pass_IRD</th>\n",
       "      <td>1712</td>\n",
       "      <td>121</td>\n",
       "    </tr>\n",
       "    <tr>\n",
       "      <th>Flag_IRD</th>\n",
       "      <td>857</td>\n",
       "      <td>159</td>\n",
       "    </tr>\n",
       "  </tbody>\n",
       "</table>\n",
       "</div>"
      ],
      "text/plain": [
       "          Match  No Match\n",
       "Pass_IRD   1712       121\n",
       "Flag_IRD    857       159"
      ]
     },
     "execution_count": 21,
     "metadata": {},
     "output_type": "execute_result"
    }
   ],
   "source": [
    "confusion2"
   ]
  },
  {
   "cell_type": "markdown",
   "id": "5d910d79-5658-4f0d-8095-5778f0dfcd93",
   "metadata": {},
   "source": [
    "# (2) Performance of MAFFT Without Gap Penalty"
   ]
  },
  {
   "cell_type": "markdown",
   "id": "e19c055e-7e73-4239-a8d8-4ea8d24ce937",
   "metadata": {},
   "source": [
    "## Influenza A Results"
   ]
  },
  {
   "cell_type": "code",
   "execution_count": 22,
   "id": "4dc96b29-d6b0-4219-b989-d938b5c58fb3",
   "metadata": {},
   "outputs": [
    {
     "name": "stdout",
     "output_type": "stream",
     "text": [
      "Pass precision: 0.975\n",
      "Pass recall (Pass accuracy): 0.936\n",
      "\n",
      "\n",
      "Flag precision: 0.921\n",
      "Flag recall: 0.969\n",
      "\n",
      "\n",
      "Flag accuracy: 0.896\n",
      "Overall accuracy: 0.918\n"
     ]
    }
   ],
   "source": [
    "confusion1, confusion2 = performance(fluA_mafft_np)"
   ]
  },
  {
   "cell_type": "code",
   "execution_count": 23,
   "id": "0cd4eedb-67eb-4eb6-b24e-2e3836e23ac6",
   "metadata": {},
   "outputs": [
    {
     "data": {
      "text/html": [
       "<div>\n",
       "<style scoped>\n",
       "    .dataframe tbody tr th:only-of-type {\n",
       "        vertical-align: middle;\n",
       "    }\n",
       "\n",
       "    .dataframe tbody tr th {\n",
       "        vertical-align: top;\n",
       "    }\n",
       "\n",
       "    .dataframe thead th {\n",
       "        text-align: right;\n",
       "    }\n",
       "</style>\n",
       "<table border=\"1\" class=\"dataframe\">\n",
       "  <thead>\n",
       "    <tr style=\"text-align: right;\">\n",
       "      <th></th>\n",
       "      <th>Pass_Mine</th>\n",
       "      <th>Flag_Mine</th>\n",
       "    </tr>\n",
       "  </thead>\n",
       "  <tbody>\n",
       "    <tr>\n",
       "      <th>Pass_IRD</th>\n",
       "      <td>945</td>\n",
       "      <td>65</td>\n",
       "    </tr>\n",
       "    <tr>\n",
       "      <th>Flag_IRD</th>\n",
       "      <td>24</td>\n",
       "      <td>753</td>\n",
       "    </tr>\n",
       "  </tbody>\n",
       "</table>\n",
       "</div>"
      ],
      "text/plain": [
       "          Pass_Mine  Flag_Mine\n",
       "Pass_IRD        945         65\n",
       "Flag_IRD         24        753"
      ]
     },
     "execution_count": 23,
     "metadata": {},
     "output_type": "execute_result"
    }
   ],
   "source": [
    "confusion1"
   ]
  },
  {
   "cell_type": "code",
   "execution_count": 24,
   "id": "4b7189aa-8a57-4aaf-b092-c45d6f50abe6",
   "metadata": {},
   "outputs": [
    {
     "data": {
      "text/html": [
       "<div>\n",
       "<style scoped>\n",
       "    .dataframe tbody tr th:only-of-type {\n",
       "        vertical-align: middle;\n",
       "    }\n",
       "\n",
       "    .dataframe tbody tr th {\n",
       "        vertical-align: top;\n",
       "    }\n",
       "\n",
       "    .dataframe thead th {\n",
       "        text-align: right;\n",
       "    }\n",
       "</style>\n",
       "<table border=\"1\" class=\"dataframe\">\n",
       "  <thead>\n",
       "    <tr style=\"text-align: right;\">\n",
       "      <th></th>\n",
       "      <th>Match</th>\n",
       "      <th>No Match</th>\n",
       "    </tr>\n",
       "  </thead>\n",
       "  <tbody>\n",
       "    <tr>\n",
       "      <th>Pass_IRD</th>\n",
       "      <td>945</td>\n",
       "      <td>65</td>\n",
       "    </tr>\n",
       "    <tr>\n",
       "      <th>Flag_IRD</th>\n",
       "      <td>696</td>\n",
       "      <td>81</td>\n",
       "    </tr>\n",
       "  </tbody>\n",
       "</table>\n",
       "</div>"
      ],
      "text/plain": [
       "          Match  No Match\n",
       "Pass_IRD    945        65\n",
       "Flag_IRD    696        81"
      ]
     },
     "execution_count": 24,
     "metadata": {},
     "output_type": "execute_result"
    }
   ],
   "source": [
    "confusion2"
   ]
  },
  {
   "cell_type": "markdown",
   "id": "9958e787-1e0f-497e-9424-32da89eb0c72",
   "metadata": {},
   "source": [
    "## Influenza B Results"
   ]
  },
  {
   "cell_type": "code",
   "execution_count": 25,
   "id": "d68f11f6-9580-44d8-8635-40ac84bc6f2f",
   "metadata": {},
   "outputs": [
    {
     "name": "stdout",
     "output_type": "stream",
     "text": [
      "Pass precision: 0.997\n",
      "Pass recall (Pass accuracy): 0.77\n",
      "\n",
      "\n",
      "Flag precision: 0.652\n",
      "Flag recall: 0.995\n",
      "\n",
      "\n",
      "Flag accuracy: 0.954\n",
      "Overall accuracy: 0.825\n"
     ]
    }
   ],
   "source": [
    "confusion1, confusion2 = performance(fluB_mafft_np)"
   ]
  },
  {
   "cell_type": "code",
   "execution_count": 26,
   "id": "b6456028-c5eb-428c-ac86-70e68f6ff0ad",
   "metadata": {},
   "outputs": [
    {
     "data": {
      "text/html": [
       "<div>\n",
       "<style scoped>\n",
       "    .dataframe tbody tr th:only-of-type {\n",
       "        vertical-align: middle;\n",
       "    }\n",
       "\n",
       "    .dataframe tbody tr th {\n",
       "        vertical-align: top;\n",
       "    }\n",
       "\n",
       "    .dataframe thead th {\n",
       "        text-align: right;\n",
       "    }\n",
       "</style>\n",
       "<table border=\"1\" class=\"dataframe\">\n",
       "  <thead>\n",
       "    <tr style=\"text-align: right;\">\n",
       "      <th></th>\n",
       "      <th>Pass_Mine</th>\n",
       "      <th>Flag_Mine</th>\n",
       "    </tr>\n",
       "  </thead>\n",
       "  <tbody>\n",
       "    <tr>\n",
       "      <th>Pass_IRD</th>\n",
       "      <td>385</td>\n",
       "      <td>115</td>\n",
       "    </tr>\n",
       "    <tr>\n",
       "      <th>Flag_IRD</th>\n",
       "      <td>1</td>\n",
       "      <td>215</td>\n",
       "    </tr>\n",
       "  </tbody>\n",
       "</table>\n",
       "</div>"
      ],
      "text/plain": [
       "          Pass_Mine  Flag_Mine\n",
       "Pass_IRD        385        115\n",
       "Flag_IRD          1        215"
      ]
     },
     "execution_count": 26,
     "metadata": {},
     "output_type": "execute_result"
    }
   ],
   "source": [
    "confusion1"
   ]
  },
  {
   "cell_type": "code",
   "execution_count": 27,
   "id": "1fa91ade-a275-456d-a944-9e28907b357d",
   "metadata": {},
   "outputs": [
    {
     "data": {
      "text/html": [
       "<div>\n",
       "<style scoped>\n",
       "    .dataframe tbody tr th:only-of-type {\n",
       "        vertical-align: middle;\n",
       "    }\n",
       "\n",
       "    .dataframe tbody tr th {\n",
       "        vertical-align: top;\n",
       "    }\n",
       "\n",
       "    .dataframe thead th {\n",
       "        text-align: right;\n",
       "    }\n",
       "</style>\n",
       "<table border=\"1\" class=\"dataframe\">\n",
       "  <thead>\n",
       "    <tr style=\"text-align: right;\">\n",
       "      <th></th>\n",
       "      <th>Match</th>\n",
       "      <th>No Match</th>\n",
       "    </tr>\n",
       "  </thead>\n",
       "  <tbody>\n",
       "    <tr>\n",
       "      <th>Pass_IRD</th>\n",
       "      <td>385</td>\n",
       "      <td>115</td>\n",
       "    </tr>\n",
       "    <tr>\n",
       "      <th>Flag_IRD</th>\n",
       "      <td>206</td>\n",
       "      <td>10</td>\n",
       "    </tr>\n",
       "  </tbody>\n",
       "</table>\n",
       "</div>"
      ],
      "text/plain": [
       "          Match  No Match\n",
       "Pass_IRD    385       115\n",
       "Flag_IRD    206        10"
      ]
     },
     "execution_count": 27,
     "metadata": {},
     "output_type": "execute_result"
    }
   ],
   "source": [
    "confusion2"
   ]
  },
  {
   "cell_type": "markdown",
   "id": "9e4edd3c-d1a4-4004-ad86-0a09ad466951",
   "metadata": {},
   "source": [
    "## Influenza C Results"
   ]
  },
  {
   "cell_type": "code",
   "execution_count": 28,
   "id": "3d8c48c3-fa03-44b2-89b0-0601d73f9c16",
   "metadata": {},
   "outputs": [
    {
     "name": "stdout",
     "output_type": "stream",
     "text": [
      "Pass precision: 1.0\n",
      "Pass recall (Pass accuracy): 0.971\n",
      "\n",
      "\n",
      "Flag precision: 0.0\n",
      "Flag recall: nan\n",
      "\n",
      "\n",
      "Flag accuracy: nan\n",
      "Overall accuracy: 0.971\n"
     ]
    }
   ],
   "source": [
    "confusion1, confusion2 = performance(fluC_mafft_np)"
   ]
  },
  {
   "cell_type": "code",
   "execution_count": 29,
   "id": "6e27d9ac-01c7-4400-b6f6-bcbc9be2dc49",
   "metadata": {},
   "outputs": [
    {
     "data": {
      "text/html": [
       "<div>\n",
       "<style scoped>\n",
       "    .dataframe tbody tr th:only-of-type {\n",
       "        vertical-align: middle;\n",
       "    }\n",
       "\n",
       "    .dataframe tbody tr th {\n",
       "        vertical-align: top;\n",
       "    }\n",
       "\n",
       "    .dataframe thead th {\n",
       "        text-align: right;\n",
       "    }\n",
       "</style>\n",
       "<table border=\"1\" class=\"dataframe\">\n",
       "  <thead>\n",
       "    <tr style=\"text-align: right;\">\n",
       "      <th></th>\n",
       "      <th>Pass_Mine</th>\n",
       "      <th>Flag_Mine</th>\n",
       "    </tr>\n",
       "  </thead>\n",
       "  <tbody>\n",
       "    <tr>\n",
       "      <th>Pass_IRD</th>\n",
       "      <td>68</td>\n",
       "      <td>2</td>\n",
       "    </tr>\n",
       "    <tr>\n",
       "      <th>Flag_IRD</th>\n",
       "      <td>0</td>\n",
       "      <td>0</td>\n",
       "    </tr>\n",
       "  </tbody>\n",
       "</table>\n",
       "</div>"
      ],
      "text/plain": [
       "          Pass_Mine  Flag_Mine\n",
       "Pass_IRD         68          2\n",
       "Flag_IRD          0          0"
      ]
     },
     "execution_count": 29,
     "metadata": {},
     "output_type": "execute_result"
    }
   ],
   "source": [
    "confusion1"
   ]
  },
  {
   "cell_type": "code",
   "execution_count": 30,
   "id": "0ae9c5e7-1fb7-4b2d-a746-8c53d926500a",
   "metadata": {},
   "outputs": [
    {
     "data": {
      "text/html": [
       "<div>\n",
       "<style scoped>\n",
       "    .dataframe tbody tr th:only-of-type {\n",
       "        vertical-align: middle;\n",
       "    }\n",
       "\n",
       "    .dataframe tbody tr th {\n",
       "        vertical-align: top;\n",
       "    }\n",
       "\n",
       "    .dataframe thead th {\n",
       "        text-align: right;\n",
       "    }\n",
       "</style>\n",
       "<table border=\"1\" class=\"dataframe\">\n",
       "  <thead>\n",
       "    <tr style=\"text-align: right;\">\n",
       "      <th></th>\n",
       "      <th>Match</th>\n",
       "      <th>No Match</th>\n",
       "    </tr>\n",
       "  </thead>\n",
       "  <tbody>\n",
       "    <tr>\n",
       "      <th>Pass_IRD</th>\n",
       "      <td>68</td>\n",
       "      <td>2</td>\n",
       "    </tr>\n",
       "    <tr>\n",
       "      <th>Flag_IRD</th>\n",
       "      <td>0</td>\n",
       "      <td>0</td>\n",
       "    </tr>\n",
       "  </tbody>\n",
       "</table>\n",
       "</div>"
      ],
      "text/plain": [
       "          Match  No Match\n",
       "Pass_IRD     68         2\n",
       "Flag_IRD      0         0"
      ]
     },
     "execution_count": 30,
     "metadata": {},
     "output_type": "execute_result"
    }
   ],
   "source": [
    "confusion2"
   ]
  },
  {
   "cell_type": "markdown",
   "id": "748a7aba-7a4c-40c0-8c35-3b3e0310ba21",
   "metadata": {},
   "source": [
    "## Influenza D Results"
   ]
  },
  {
   "cell_type": "code",
   "execution_count": 31,
   "id": "551fb91f-82d4-4e02-8a48-d59d6324a63a",
   "metadata": {},
   "outputs": [
    {
     "name": "stdout",
     "output_type": "stream",
     "text": [
      "Pass precision: 1.0\n",
      "Pass recall (Pass accuracy): 0.996\n",
      "\n",
      "\n",
      "Flag precision: 0.958\n",
      "Flag recall: 1.0\n",
      "\n",
      "\n",
      "Flag accuracy: 0.565\n",
      "Overall accuracy: 0.96\n"
     ]
    }
   ],
   "source": [
    "confusion1, confusion2 = performance(fluD_mafft_np)"
   ]
  },
  {
   "cell_type": "code",
   "execution_count": 32,
   "id": "477c30c7-8f61-46cb-9292-fd6399ba1611",
   "metadata": {},
   "outputs": [
    {
     "data": {
      "text/html": [
       "<div>\n",
       "<style scoped>\n",
       "    .dataframe tbody tr th:only-of-type {\n",
       "        vertical-align: middle;\n",
       "    }\n",
       "\n",
       "    .dataframe tbody tr th {\n",
       "        vertical-align: top;\n",
       "    }\n",
       "\n",
       "    .dataframe thead th {\n",
       "        text-align: right;\n",
       "    }\n",
       "</style>\n",
       "<table border=\"1\" class=\"dataframe\">\n",
       "  <thead>\n",
       "    <tr style=\"text-align: right;\">\n",
       "      <th></th>\n",
       "      <th>Pass_Mine</th>\n",
       "      <th>Flag_Mine</th>\n",
       "    </tr>\n",
       "  </thead>\n",
       "  <tbody>\n",
       "    <tr>\n",
       "      <th>Pass_IRD</th>\n",
       "      <td>252</td>\n",
       "      <td>1</td>\n",
       "    </tr>\n",
       "    <tr>\n",
       "      <th>Flag_IRD</th>\n",
       "      <td>0</td>\n",
       "      <td>23</td>\n",
       "    </tr>\n",
       "  </tbody>\n",
       "</table>\n",
       "</div>"
      ],
      "text/plain": [
       "          Pass_Mine  Flag_Mine\n",
       "Pass_IRD        252          1\n",
       "Flag_IRD          0         23"
      ]
     },
     "execution_count": 32,
     "metadata": {},
     "output_type": "execute_result"
    }
   ],
   "source": [
    "confusion1"
   ]
  },
  {
   "cell_type": "code",
   "execution_count": 33,
   "id": "d01acfe3-29c8-44c0-b482-a5ec00682a5a",
   "metadata": {},
   "outputs": [
    {
     "data": {
      "text/html": [
       "<div>\n",
       "<style scoped>\n",
       "    .dataframe tbody tr th:only-of-type {\n",
       "        vertical-align: middle;\n",
       "    }\n",
       "\n",
       "    .dataframe tbody tr th {\n",
       "        vertical-align: top;\n",
       "    }\n",
       "\n",
       "    .dataframe thead th {\n",
       "        text-align: right;\n",
       "    }\n",
       "</style>\n",
       "<table border=\"1\" class=\"dataframe\">\n",
       "  <thead>\n",
       "    <tr style=\"text-align: right;\">\n",
       "      <th></th>\n",
       "      <th>Match</th>\n",
       "      <th>No Match</th>\n",
       "    </tr>\n",
       "  </thead>\n",
       "  <tbody>\n",
       "    <tr>\n",
       "      <th>Pass_IRD</th>\n",
       "      <td>252</td>\n",
       "      <td>1</td>\n",
       "    </tr>\n",
       "    <tr>\n",
       "      <th>Flag_IRD</th>\n",
       "      <td>13</td>\n",
       "      <td>10</td>\n",
       "    </tr>\n",
       "  </tbody>\n",
       "</table>\n",
       "</div>"
      ],
      "text/plain": [
       "          Match  No Match\n",
       "Pass_IRD    252         1\n",
       "Flag_IRD     13        10"
      ]
     },
     "execution_count": 33,
     "metadata": {},
     "output_type": "execute_result"
    }
   ],
   "source": [
    "confusion2"
   ]
  },
  {
   "cell_type": "markdown",
   "id": "34773575-3b28-478b-b84a-1ad699ee59ae",
   "metadata": {},
   "source": [
    "## Overall Results"
   ]
  },
  {
   "cell_type": "code",
   "execution_count": 34,
   "id": "1196c106-d4a6-4cfe-8d9b-c25ce46aee0d",
   "metadata": {},
   "outputs": [
    {
     "name": "stdout",
     "output_type": "stream",
     "text": [
      "Pass precision: 0.985\n",
      "Pass recall (Pass accuracy): 0.9\n",
      "\n",
      "\n",
      "Flag precision: 0.844\n",
      "Flag recall: 0.975\n",
      "\n",
      "\n",
      "Flag accuracy: 0.901\n",
      "Overall accuracy: 0.9\n"
     ]
    }
   ],
   "source": [
    "overall_mafft_np = pd.concat([fluA_mafft_np, fluB_mafft_np, fluC_mafft_np, fluD_mafft_np], axis = 0)\n",
    "confusion1, confusion2 = performance(overall_mafft_np)"
   ]
  },
  {
   "cell_type": "code",
   "execution_count": 35,
   "id": "197eaf99-fee9-4faa-81a6-178b0fb20fc9",
   "metadata": {},
   "outputs": [
    {
     "data": {
      "text/html": [
       "<div>\n",
       "<style scoped>\n",
       "    .dataframe tbody tr th:only-of-type {\n",
       "        vertical-align: middle;\n",
       "    }\n",
       "\n",
       "    .dataframe tbody tr th {\n",
       "        vertical-align: top;\n",
       "    }\n",
       "\n",
       "    .dataframe thead th {\n",
       "        text-align: right;\n",
       "    }\n",
       "</style>\n",
       "<table border=\"1\" class=\"dataframe\">\n",
       "  <thead>\n",
       "    <tr style=\"text-align: right;\">\n",
       "      <th></th>\n",
       "      <th>Pass_Mine</th>\n",
       "      <th>Flag_Mine</th>\n",
       "    </tr>\n",
       "  </thead>\n",
       "  <tbody>\n",
       "    <tr>\n",
       "      <th>Pass_IRD</th>\n",
       "      <td>1650</td>\n",
       "      <td>183</td>\n",
       "    </tr>\n",
       "    <tr>\n",
       "      <th>Flag_IRD</th>\n",
       "      <td>25</td>\n",
       "      <td>991</td>\n",
       "    </tr>\n",
       "  </tbody>\n",
       "</table>\n",
       "</div>"
      ],
      "text/plain": [
       "          Pass_Mine  Flag_Mine\n",
       "Pass_IRD       1650        183\n",
       "Flag_IRD         25        991"
      ]
     },
     "execution_count": 35,
     "metadata": {},
     "output_type": "execute_result"
    }
   ],
   "source": [
    "confusion1"
   ]
  },
  {
   "cell_type": "code",
   "execution_count": 36,
   "id": "692cf943-4106-4bec-b8c1-f34358da2a17",
   "metadata": {},
   "outputs": [
    {
     "data": {
      "text/html": [
       "<div>\n",
       "<style scoped>\n",
       "    .dataframe tbody tr th:only-of-type {\n",
       "        vertical-align: middle;\n",
       "    }\n",
       "\n",
       "    .dataframe tbody tr th {\n",
       "        vertical-align: top;\n",
       "    }\n",
       "\n",
       "    .dataframe thead th {\n",
       "        text-align: right;\n",
       "    }\n",
       "</style>\n",
       "<table border=\"1\" class=\"dataframe\">\n",
       "  <thead>\n",
       "    <tr style=\"text-align: right;\">\n",
       "      <th></th>\n",
       "      <th>Match</th>\n",
       "      <th>No Match</th>\n",
       "    </tr>\n",
       "  </thead>\n",
       "  <tbody>\n",
       "    <tr>\n",
       "      <th>Pass_IRD</th>\n",
       "      <td>1650</td>\n",
       "      <td>183</td>\n",
       "    </tr>\n",
       "    <tr>\n",
       "      <th>Flag_IRD</th>\n",
       "      <td>915</td>\n",
       "      <td>101</td>\n",
       "    </tr>\n",
       "  </tbody>\n",
       "</table>\n",
       "</div>"
      ],
      "text/plain": [
       "          Match  No Match\n",
       "Pass_IRD   1650       183\n",
       "Flag_IRD    915       101"
      ]
     },
     "execution_count": 36,
     "metadata": {},
     "output_type": "execute_result"
    }
   ],
   "source": [
    "confusion2"
   ]
  },
  {
   "cell_type": "markdown",
   "id": "330ae2ec-086c-462c-9973-ee662af0c0e7",
   "metadata": {},
   "source": [
    "# (3) Performance of MUSCLE"
   ]
  },
  {
   "cell_type": "markdown",
   "id": "ab2c2352-a8d8-4804-a7a2-33c012c11559",
   "metadata": {},
   "source": [
    "## Influenza A Results"
   ]
  },
  {
   "cell_type": "code",
   "execution_count": 37,
   "id": "6f03fdf6-d4a4-4a6c-8a7b-e75e860aceef",
   "metadata": {},
   "outputs": [
    {
     "name": "stdout",
     "output_type": "stream",
     "text": [
      "Pass precision: 0.996\n",
      "Pass recall (Pass accuracy): 0.992\n",
      "\n",
      "\n",
      "Flag precision: 0.99\n",
      "Flag recall: 0.995\n",
      "\n",
      "\n",
      "Flag accuracy: 0.955\n",
      "Overall accuracy: 0.976\n"
     ]
    }
   ],
   "source": [
    "confusion1, confusion2 = performance(fluA_muscle)"
   ]
  },
  {
   "cell_type": "code",
   "execution_count": 38,
   "id": "c8b48200-fb2d-485b-865a-30a92904bde0",
   "metadata": {},
   "outputs": [
    {
     "data": {
      "text/html": [
       "<div>\n",
       "<style scoped>\n",
       "    .dataframe tbody tr th:only-of-type {\n",
       "        vertical-align: middle;\n",
       "    }\n",
       "\n",
       "    .dataframe tbody tr th {\n",
       "        vertical-align: top;\n",
       "    }\n",
       "\n",
       "    .dataframe thead th {\n",
       "        text-align: right;\n",
       "    }\n",
       "</style>\n",
       "<table border=\"1\" class=\"dataframe\">\n",
       "  <thead>\n",
       "    <tr style=\"text-align: right;\">\n",
       "      <th></th>\n",
       "      <th>Pass_Mine</th>\n",
       "      <th>Flag_Mine</th>\n",
       "    </tr>\n",
       "  </thead>\n",
       "  <tbody>\n",
       "    <tr>\n",
       "      <th>Pass_IRD</th>\n",
       "      <td>1002</td>\n",
       "      <td>8</td>\n",
       "    </tr>\n",
       "    <tr>\n",
       "      <th>Flag_IRD</th>\n",
       "      <td>4</td>\n",
       "      <td>773</td>\n",
       "    </tr>\n",
       "  </tbody>\n",
       "</table>\n",
       "</div>"
      ],
      "text/plain": [
       "          Pass_Mine  Flag_Mine\n",
       "Pass_IRD       1002          8\n",
       "Flag_IRD          4        773"
      ]
     },
     "execution_count": 38,
     "metadata": {},
     "output_type": "execute_result"
    }
   ],
   "source": [
    "confusion1"
   ]
  },
  {
   "cell_type": "code",
   "execution_count": 39,
   "id": "4bdf8cbb-7d59-4027-9a97-8c5beb28e46b",
   "metadata": {},
   "outputs": [
    {
     "data": {
      "text/html": [
       "<div>\n",
       "<style scoped>\n",
       "    .dataframe tbody tr th:only-of-type {\n",
       "        vertical-align: middle;\n",
       "    }\n",
       "\n",
       "    .dataframe tbody tr th {\n",
       "        vertical-align: top;\n",
       "    }\n",
       "\n",
       "    .dataframe thead th {\n",
       "        text-align: right;\n",
       "    }\n",
       "</style>\n",
       "<table border=\"1\" class=\"dataframe\">\n",
       "  <thead>\n",
       "    <tr style=\"text-align: right;\">\n",
       "      <th></th>\n",
       "      <th>Match</th>\n",
       "      <th>No Match</th>\n",
       "    </tr>\n",
       "  </thead>\n",
       "  <tbody>\n",
       "    <tr>\n",
       "      <th>Pass_IRD</th>\n",
       "      <td>1002</td>\n",
       "      <td>8</td>\n",
       "    </tr>\n",
       "    <tr>\n",
       "      <th>Flag_IRD</th>\n",
       "      <td>742</td>\n",
       "      <td>35</td>\n",
       "    </tr>\n",
       "  </tbody>\n",
       "</table>\n",
       "</div>"
      ],
      "text/plain": [
       "          Match  No Match\n",
       "Pass_IRD   1002         8\n",
       "Flag_IRD    742        35"
      ]
     },
     "execution_count": 39,
     "metadata": {},
     "output_type": "execute_result"
    }
   ],
   "source": [
    "confusion2"
   ]
  },
  {
   "cell_type": "markdown",
   "id": "5c1e14f8-f4a9-4110-815c-b95d6ee7b698",
   "metadata": {},
   "source": [
    "## Influenza B Results"
   ]
  },
  {
   "cell_type": "code",
   "execution_count": 40,
   "id": "af98fb69-05a8-4067-8bfe-bb67a1c3c94a",
   "metadata": {},
   "outputs": [
    {
     "name": "stdout",
     "output_type": "stream",
     "text": [
      "Pass precision: 0.963\n",
      "Pass recall (Pass accuracy): 0.992\n",
      "\n",
      "\n",
      "Flag precision: 0.98\n",
      "Flag recall: 0.912\n",
      "\n",
      "\n",
      "Flag accuracy: 0.889\n",
      "Overall accuracy: 0.961\n"
     ]
    }
   ],
   "source": [
    "confusion1, confusion2 = performance(fluB_muscle)"
   ]
  },
  {
   "cell_type": "code",
   "execution_count": 41,
   "id": "da632505-e78a-4bf7-b580-ed732508d2c1",
   "metadata": {},
   "outputs": [
    {
     "data": {
      "text/html": [
       "<div>\n",
       "<style scoped>\n",
       "    .dataframe tbody tr th:only-of-type {\n",
       "        vertical-align: middle;\n",
       "    }\n",
       "\n",
       "    .dataframe tbody tr th {\n",
       "        vertical-align: top;\n",
       "    }\n",
       "\n",
       "    .dataframe thead th {\n",
       "        text-align: right;\n",
       "    }\n",
       "</style>\n",
       "<table border=\"1\" class=\"dataframe\">\n",
       "  <thead>\n",
       "    <tr style=\"text-align: right;\">\n",
       "      <th></th>\n",
       "      <th>Pass_Mine</th>\n",
       "      <th>Flag_Mine</th>\n",
       "    </tr>\n",
       "  </thead>\n",
       "  <tbody>\n",
       "    <tr>\n",
       "      <th>Pass_IRD</th>\n",
       "      <td>496</td>\n",
       "      <td>4</td>\n",
       "    </tr>\n",
       "    <tr>\n",
       "      <th>Flag_IRD</th>\n",
       "      <td>19</td>\n",
       "      <td>197</td>\n",
       "    </tr>\n",
       "  </tbody>\n",
       "</table>\n",
       "</div>"
      ],
      "text/plain": [
       "          Pass_Mine  Flag_Mine\n",
       "Pass_IRD        496          4\n",
       "Flag_IRD         19        197"
      ]
     },
     "execution_count": 41,
     "metadata": {},
     "output_type": "execute_result"
    }
   ],
   "source": [
    "confusion1"
   ]
  },
  {
   "cell_type": "code",
   "execution_count": 42,
   "id": "97c1792b-ae3e-4456-80fb-faf7c22ccb8e",
   "metadata": {},
   "outputs": [
    {
     "data": {
      "text/html": [
       "<div>\n",
       "<style scoped>\n",
       "    .dataframe tbody tr th:only-of-type {\n",
       "        vertical-align: middle;\n",
       "    }\n",
       "\n",
       "    .dataframe tbody tr th {\n",
       "        vertical-align: top;\n",
       "    }\n",
       "\n",
       "    .dataframe thead th {\n",
       "        text-align: right;\n",
       "    }\n",
       "</style>\n",
       "<table border=\"1\" class=\"dataframe\">\n",
       "  <thead>\n",
       "    <tr style=\"text-align: right;\">\n",
       "      <th></th>\n",
       "      <th>Match</th>\n",
       "      <th>No Match</th>\n",
       "    </tr>\n",
       "  </thead>\n",
       "  <tbody>\n",
       "    <tr>\n",
       "      <th>Pass_IRD</th>\n",
       "      <td>496</td>\n",
       "      <td>4</td>\n",
       "    </tr>\n",
       "    <tr>\n",
       "      <th>Flag_IRD</th>\n",
       "      <td>192</td>\n",
       "      <td>24</td>\n",
       "    </tr>\n",
       "  </tbody>\n",
       "</table>\n",
       "</div>"
      ],
      "text/plain": [
       "          Match  No Match\n",
       "Pass_IRD    496         4\n",
       "Flag_IRD    192        24"
      ]
     },
     "execution_count": 42,
     "metadata": {},
     "output_type": "execute_result"
    }
   ],
   "source": [
    "confusion2"
   ]
  },
  {
   "cell_type": "markdown",
   "id": "78f306ce-437b-4724-a641-28fb161c43c1",
   "metadata": {},
   "source": [
    "## Influenza C Results"
   ]
  },
  {
   "cell_type": "code",
   "execution_count": 43,
   "id": "df2d4e1b-95d1-48fd-8e4e-42a8a755ccf1",
   "metadata": {},
   "outputs": [
    {
     "name": "stdout",
     "output_type": "stream",
     "text": [
      "Pass precision: 1.0\n",
      "Pass recall (Pass accuracy): 0.971\n",
      "\n",
      "\n",
      "Flag precision: 0.0\n",
      "Flag recall: nan\n",
      "\n",
      "\n",
      "Flag accuracy: nan\n",
      "Overall accuracy: 0.971\n"
     ]
    }
   ],
   "source": [
    "confusion1, confusion2 = performance(fluC_muscle)"
   ]
  },
  {
   "cell_type": "code",
   "execution_count": 44,
   "id": "22552686-a841-442f-9558-5d99911eff17",
   "metadata": {},
   "outputs": [
    {
     "data": {
      "text/html": [
       "<div>\n",
       "<style scoped>\n",
       "    .dataframe tbody tr th:only-of-type {\n",
       "        vertical-align: middle;\n",
       "    }\n",
       "\n",
       "    .dataframe tbody tr th {\n",
       "        vertical-align: top;\n",
       "    }\n",
       "\n",
       "    .dataframe thead th {\n",
       "        text-align: right;\n",
       "    }\n",
       "</style>\n",
       "<table border=\"1\" class=\"dataframe\">\n",
       "  <thead>\n",
       "    <tr style=\"text-align: right;\">\n",
       "      <th></th>\n",
       "      <th>Pass_Mine</th>\n",
       "      <th>Flag_Mine</th>\n",
       "    </tr>\n",
       "  </thead>\n",
       "  <tbody>\n",
       "    <tr>\n",
       "      <th>Pass_IRD</th>\n",
       "      <td>68</td>\n",
       "      <td>2</td>\n",
       "    </tr>\n",
       "    <tr>\n",
       "      <th>Flag_IRD</th>\n",
       "      <td>0</td>\n",
       "      <td>0</td>\n",
       "    </tr>\n",
       "  </tbody>\n",
       "</table>\n",
       "</div>"
      ],
      "text/plain": [
       "          Pass_Mine  Flag_Mine\n",
       "Pass_IRD         68          2\n",
       "Flag_IRD          0          0"
      ]
     },
     "execution_count": 44,
     "metadata": {},
     "output_type": "execute_result"
    }
   ],
   "source": [
    "confusion1"
   ]
  },
  {
   "cell_type": "code",
   "execution_count": 45,
   "id": "d40b69b3-7220-40e8-afe6-9db3cb8caabe",
   "metadata": {},
   "outputs": [
    {
     "data": {
      "text/html": [
       "<div>\n",
       "<style scoped>\n",
       "    .dataframe tbody tr th:only-of-type {\n",
       "        vertical-align: middle;\n",
       "    }\n",
       "\n",
       "    .dataframe tbody tr th {\n",
       "        vertical-align: top;\n",
       "    }\n",
       "\n",
       "    .dataframe thead th {\n",
       "        text-align: right;\n",
       "    }\n",
       "</style>\n",
       "<table border=\"1\" class=\"dataframe\">\n",
       "  <thead>\n",
       "    <tr style=\"text-align: right;\">\n",
       "      <th></th>\n",
       "      <th>Match</th>\n",
       "      <th>No Match</th>\n",
       "    </tr>\n",
       "  </thead>\n",
       "  <tbody>\n",
       "    <tr>\n",
       "      <th>Pass_IRD</th>\n",
       "      <td>68</td>\n",
       "      <td>2</td>\n",
       "    </tr>\n",
       "    <tr>\n",
       "      <th>Flag_IRD</th>\n",
       "      <td>0</td>\n",
       "      <td>0</td>\n",
       "    </tr>\n",
       "  </tbody>\n",
       "</table>\n",
       "</div>"
      ],
      "text/plain": [
       "          Match  No Match\n",
       "Pass_IRD     68         2\n",
       "Flag_IRD      0         0"
      ]
     },
     "execution_count": 45,
     "metadata": {},
     "output_type": "execute_result"
    }
   ],
   "source": [
    "confusion2"
   ]
  },
  {
   "cell_type": "markdown",
   "id": "1b847682-3421-4542-9058-10e9fe19a1a1",
   "metadata": {},
   "source": [
    "## Influenza D Results"
   ]
  },
  {
   "cell_type": "code",
   "execution_count": 46,
   "id": "eb154bca-bd87-40ea-ae7a-8bd503ff09d3",
   "metadata": {},
   "outputs": [
    {
     "name": "stdout",
     "output_type": "stream",
     "text": [
      "Pass precision: 1.0\n",
      "Pass recall (Pass accuracy): 1.0\n",
      "\n",
      "\n",
      "Flag precision: 1.0\n",
      "Flag recall: 1.0\n",
      "\n",
      "\n",
      "Flag accuracy: 1.0\n",
      "Overall accuracy: 1.0\n"
     ]
    }
   ],
   "source": [
    "confusion1, confusion2 = performance(fluD_muscle)"
   ]
  },
  {
   "cell_type": "code",
   "execution_count": 47,
   "id": "20572ab9-e20a-4505-adef-9791cbbad2d8",
   "metadata": {},
   "outputs": [
    {
     "data": {
      "text/html": [
       "<div>\n",
       "<style scoped>\n",
       "    .dataframe tbody tr th:only-of-type {\n",
       "        vertical-align: middle;\n",
       "    }\n",
       "\n",
       "    .dataframe tbody tr th {\n",
       "        vertical-align: top;\n",
       "    }\n",
       "\n",
       "    .dataframe thead th {\n",
       "        text-align: right;\n",
       "    }\n",
       "</style>\n",
       "<table border=\"1\" class=\"dataframe\">\n",
       "  <thead>\n",
       "    <tr style=\"text-align: right;\">\n",
       "      <th></th>\n",
       "      <th>Pass_Mine</th>\n",
       "      <th>Flag_Mine</th>\n",
       "    </tr>\n",
       "  </thead>\n",
       "  <tbody>\n",
       "    <tr>\n",
       "      <th>Pass_IRD</th>\n",
       "      <td>253</td>\n",
       "      <td>0</td>\n",
       "    </tr>\n",
       "    <tr>\n",
       "      <th>Flag_IRD</th>\n",
       "      <td>0</td>\n",
       "      <td>23</td>\n",
       "    </tr>\n",
       "  </tbody>\n",
       "</table>\n",
       "</div>"
      ],
      "text/plain": [
       "          Pass_Mine  Flag_Mine\n",
       "Pass_IRD        253          0\n",
       "Flag_IRD          0         23"
      ]
     },
     "execution_count": 47,
     "metadata": {},
     "output_type": "execute_result"
    }
   ],
   "source": [
    "confusion1"
   ]
  },
  {
   "cell_type": "code",
   "execution_count": 48,
   "id": "8f6a5f71-7af4-4fea-b700-2e475f86cf9c",
   "metadata": {},
   "outputs": [
    {
     "data": {
      "text/html": [
       "<div>\n",
       "<style scoped>\n",
       "    .dataframe tbody tr th:only-of-type {\n",
       "        vertical-align: middle;\n",
       "    }\n",
       "\n",
       "    .dataframe tbody tr th {\n",
       "        vertical-align: top;\n",
       "    }\n",
       "\n",
       "    .dataframe thead th {\n",
       "        text-align: right;\n",
       "    }\n",
       "</style>\n",
       "<table border=\"1\" class=\"dataframe\">\n",
       "  <thead>\n",
       "    <tr style=\"text-align: right;\">\n",
       "      <th></th>\n",
       "      <th>Match</th>\n",
       "      <th>No Match</th>\n",
       "    </tr>\n",
       "  </thead>\n",
       "  <tbody>\n",
       "    <tr>\n",
       "      <th>Pass_IRD</th>\n",
       "      <td>253</td>\n",
       "      <td>0</td>\n",
       "    </tr>\n",
       "    <tr>\n",
       "      <th>Flag_IRD</th>\n",
       "      <td>23</td>\n",
       "      <td>0</td>\n",
       "    </tr>\n",
       "  </tbody>\n",
       "</table>\n",
       "</div>"
      ],
      "text/plain": [
       "          Match  No Match\n",
       "Pass_IRD    253         0\n",
       "Flag_IRD     23         0"
      ]
     },
     "execution_count": 48,
     "metadata": {},
     "output_type": "execute_result"
    }
   ],
   "source": [
    "confusion2"
   ]
  },
  {
   "cell_type": "markdown",
   "id": "545d638d-9f1d-4be5-9497-3a2b488a0761",
   "metadata": {},
   "source": [
    "## Overall Results "
   ]
  },
  {
   "cell_type": "code",
   "execution_count": 49,
   "id": "0f2ad52d-27ae-4345-bcf6-6fd98964827c",
   "metadata": {},
   "outputs": [
    {
     "name": "stdout",
     "output_type": "stream",
     "text": [
      "Pass precision: 0.988\n",
      "Pass recall (Pass accuracy): 0.992\n",
      "\n",
      "\n",
      "Flag precision: 0.986\n",
      "Flag recall: 0.977\n",
      "\n",
      "\n",
      "Flag accuracy: 0.942\n",
      "Overall accuracy: 0.974\n"
     ]
    }
   ],
   "source": [
    "overall_muscle = pd.concat([fluA_muscle, fluB_muscle, fluC_muscle, fluD_muscle], axis = 0)\n",
    "confusion1, confusion2 = performance(overall_muscle)"
   ]
  },
  {
   "cell_type": "code",
   "execution_count": 50,
   "id": "de975c4b-2fb2-44b3-8b56-91d395075486",
   "metadata": {},
   "outputs": [
    {
     "data": {
      "text/html": [
       "<div>\n",
       "<style scoped>\n",
       "    .dataframe tbody tr th:only-of-type {\n",
       "        vertical-align: middle;\n",
       "    }\n",
       "\n",
       "    .dataframe tbody tr th {\n",
       "        vertical-align: top;\n",
       "    }\n",
       "\n",
       "    .dataframe thead th {\n",
       "        text-align: right;\n",
       "    }\n",
       "</style>\n",
       "<table border=\"1\" class=\"dataframe\">\n",
       "  <thead>\n",
       "    <tr style=\"text-align: right;\">\n",
       "      <th></th>\n",
       "      <th>Pass_Mine</th>\n",
       "      <th>Flag_Mine</th>\n",
       "    </tr>\n",
       "  </thead>\n",
       "  <tbody>\n",
       "    <tr>\n",
       "      <th>Pass_IRD</th>\n",
       "      <td>1819</td>\n",
       "      <td>14</td>\n",
       "    </tr>\n",
       "    <tr>\n",
       "      <th>Flag_IRD</th>\n",
       "      <td>23</td>\n",
       "      <td>993</td>\n",
       "    </tr>\n",
       "  </tbody>\n",
       "</table>\n",
       "</div>"
      ],
      "text/plain": [
       "          Pass_Mine  Flag_Mine\n",
       "Pass_IRD       1819         14\n",
       "Flag_IRD         23        993"
      ]
     },
     "execution_count": 50,
     "metadata": {},
     "output_type": "execute_result"
    }
   ],
   "source": [
    "confusion1"
   ]
  },
  {
   "cell_type": "code",
   "execution_count": 51,
   "id": "4e572c90-b8d7-4725-bec8-63bea2326a6d",
   "metadata": {},
   "outputs": [
    {
     "data": {
      "text/html": [
       "<div>\n",
       "<style scoped>\n",
       "    .dataframe tbody tr th:only-of-type {\n",
       "        vertical-align: middle;\n",
       "    }\n",
       "\n",
       "    .dataframe tbody tr th {\n",
       "        vertical-align: top;\n",
       "    }\n",
       "\n",
       "    .dataframe thead th {\n",
       "        text-align: right;\n",
       "    }\n",
       "</style>\n",
       "<table border=\"1\" class=\"dataframe\">\n",
       "  <thead>\n",
       "    <tr style=\"text-align: right;\">\n",
       "      <th></th>\n",
       "      <th>Match</th>\n",
       "      <th>No Match</th>\n",
       "    </tr>\n",
       "  </thead>\n",
       "  <tbody>\n",
       "    <tr>\n",
       "      <th>Pass_IRD</th>\n",
       "      <td>1819</td>\n",
       "      <td>14</td>\n",
       "    </tr>\n",
       "    <tr>\n",
       "      <th>Flag_IRD</th>\n",
       "      <td>957</td>\n",
       "      <td>59</td>\n",
       "    </tr>\n",
       "  </tbody>\n",
       "</table>\n",
       "</div>"
      ],
      "text/plain": [
       "          Match  No Match\n",
       "Pass_IRD   1819        14\n",
       "Flag_IRD    957        59"
      ]
     },
     "execution_count": 51,
     "metadata": {},
     "output_type": "execute_result"
    }
   ],
   "source": [
    "confusion2"
   ]
  },
  {
   "cell_type": "markdown",
   "id": "c1901dc6-20bd-4410-adb5-eb07bcc37265",
   "metadata": {},
   "source": [
    "# EXTRA: View Overall Results in Single Table"
   ]
  },
  {
   "cell_type": "code",
   "execution_count": 52,
   "id": "130cea39-17af-4039-b3db-05d62d3df6e3",
   "metadata": {},
   "outputs": [
    {
     "data": {
      "text/html": [
       "<div>\n",
       "<style scoped>\n",
       "    .dataframe tbody tr th:only-of-type {\n",
       "        vertical-align: middle;\n",
       "    }\n",
       "\n",
       "    .dataframe tbody tr th {\n",
       "        vertical-align: top;\n",
       "    }\n",
       "\n",
       "    .dataframe thead th {\n",
       "        text-align: right;\n",
       "    }\n",
       "</style>\n",
       "<table border=\"1\" class=\"dataframe\">\n",
       "  <thead>\n",
       "    <tr style=\"text-align: right;\">\n",
       "      <th></th>\n",
       "      <th>MAFFT Penalized</th>\n",
       "      <th>MAFFT No Penalty</th>\n",
       "      <th>MUSCLE</th>\n",
       "    </tr>\n",
       "  </thead>\n",
       "  <tbody>\n",
       "    <tr>\n",
       "      <th>Pass Precision</th>\n",
       "      <td>0.954</td>\n",
       "      <td>0.985</td>\n",
       "      <td>0.988</td>\n",
       "    </tr>\n",
       "    <tr>\n",
       "      <th>Pass Recall</th>\n",
       "      <td>0.934</td>\n",
       "      <td>0.900</td>\n",
       "      <td>0.992</td>\n",
       "    </tr>\n",
       "    <tr>\n",
       "      <th>Flag Precision</th>\n",
       "      <td>0.885</td>\n",
       "      <td>0.844</td>\n",
       "      <td>0.986</td>\n",
       "    </tr>\n",
       "    <tr>\n",
       "      <th>Flag Recall</th>\n",
       "      <td>0.919</td>\n",
       "      <td>0.975</td>\n",
       "      <td>0.977</td>\n",
       "    </tr>\n",
       "    <tr>\n",
       "      <th>Flag Accuracy</th>\n",
       "      <td>0.844</td>\n",
       "      <td>0.901</td>\n",
       "      <td>0.942</td>\n",
       "    </tr>\n",
       "    <tr>\n",
       "      <th>Overall Accuracy</th>\n",
       "      <td>0.902</td>\n",
       "      <td>0.900</td>\n",
       "      <td>0.974</td>\n",
       "    </tr>\n",
       "  </tbody>\n",
       "</table>\n",
       "</div>"
      ],
      "text/plain": [
       "                  MAFFT Penalized  MAFFT No Penalty  MUSCLE\n",
       "Pass Precision              0.954             0.985   0.988\n",
       "Pass Recall                 0.934             0.900   0.992\n",
       "Flag Precision              0.885             0.844   0.986\n",
       "Flag Recall                 0.919             0.975   0.977\n",
       "Flag Accuracy               0.844             0.901   0.942\n",
       "Overall Accuracy            0.902             0.900   0.974"
      ]
     },
     "execution_count": 52,
     "metadata": {},
     "output_type": "execute_result"
    }
   ],
   "source": [
    "old_stdout = sys.stdout\n",
    "sys.stdout = open(os.devnull, \"w\")\n",
    "overall_df = overall_results_df(overall_mafft_p, overall_mafft_np, overall_muscle)\n",
    "sys.stdout = old_stdout\n",
    "overall_df.to_csv(\"overall_performance.csv\")\n",
    "overall_df"
   ]
  },
  {
   "cell_type": "code",
   "execution_count": null,
   "id": "0cdd8843-327f-42fb-9be9-9de768fc75d7",
   "metadata": {},
   "outputs": [],
   "source": []
  }
 ],
 "metadata": {
  "kernelspec": {
   "display_name": "Python 3 (ipykernel)",
   "language": "python",
   "name": "python3"
  },
  "language_info": {
   "codemirror_mode": {
    "name": "ipython",
    "version": 3
   },
   "file_extension": ".py",
   "mimetype": "text/x-python",
   "name": "python",
   "nbconvert_exporter": "python",
   "pygments_lexer": "ipython3",
   "version": "3.8.12"
  }
 },
 "nbformat": 4,
 "nbformat_minor": 5
}
