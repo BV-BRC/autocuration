{
 "cells": [
  {
   "cell_type": "markdown",
   "id": "a3d31abe-e518-46f1-8f2d-36e8c4e4fed2",
   "metadata": {},
   "source": [
    "# Analyze Accuracy of the Autocuration Pipeline"
   ]
  },
  {
   "cell_type": "markdown",
   "id": "a8ff7733-bf91-4b82-87bd-f6de00717343",
   "metadata": {},
   "source": [
    "This notebook analyzes the performance of the Influenza Autocuration pipeline on sequences that were already flagged in IRD.  Sequences from species A-D were downloaded from legacy IRD and the pipeline was applied to each species' set of sequences. Results from each set of sequences were saved by generating a table that listed column for 'Accession', 'Actual Flag', 'My Flag', and 'Profile'.  The 'Actual Flag' and 'My Flag' columns could be compared to assess performance.  This said, there are five possible results of performance that need to be kept in mind.  The five possibilities are the following:\n",
    "\n",
    "(1) actual = Pass | mine = Pass\n",
    "\n",
    "(2) actual = Pass | mine = Flag_A\n",
    "\n",
    "(3) actual = Flag_A | mine = Pass\n",
    "\n",
    "(4) actual = Flag_A | mine = Flag_A\n",
    "\n",
    "(5) actual = Flag_A | mine = Flag_B\n",
    "\n",
    "To account for these five possiblities, this performance analysis measures (1) the precision of determining a 'pass' sequence (pass precision), (2) the precision of determing a 'flag' sequence (flag precision), (3) the rate at which actual pass sequences are labeled with pass (pass recall), (4) the rate at which actual flag sequences are labeled with a flag (flag recall), (5) the accuracy of assigning the correct anotation(s) to a flagged sequence (flag accuracy), and finally (6) the overall accuracy in determining the correct annotation.\n",
    "\n",
    "This performance gets analyzed in two stages, one in which the MAFFT alignment gap penalty is utilized and one in which it is not. Thus, the analysis is broken into two sections."
   ]
  },
  {
   "cell_type": "code",
   "execution_count": 1,
   "id": "f1c7e286-d76f-4bef-ba85-d1fe9fc2797c",
   "metadata": {},
   "outputs": [],
   "source": [
    "import pandas as pd\n",
    "import numpy as np\n",
    "import warnings\n",
    "warnings.filterwarnings(\"ignore\")"
   ]
  },
  {
   "cell_type": "code",
   "execution_count": 2,
   "id": "65b2ab6c-2a36-4ab9-bde6-46f1266af351",
   "metadata": {},
   "outputs": [],
   "source": [
    "def pass_flag_confusion(theirs, mine):\n",
    "    \n",
    "    mat = pd.DataFrame([[0,0],[0,0]], index=['Pass_IRD', 'Flag_IRD'], columns=['Pass_Mine', 'Flag_Mine'])\n",
    "    \n",
    "    for i in range(len(theirs)):\n",
    "        if theirs[i] == 'Pass' and mine[i] == 'Pass':\n",
    "            mat.at['Pass_IRD', 'Pass_Mine'] += 1\n",
    "        elif theirs[i] == 'Pass' and mine[i] != 'Pass':\n",
    "            mat.at['Pass_IRD', 'Flag_Mine'] += 1\n",
    "        elif theirs[i] != 'Pass' and mine[i] == 'Pass':\n",
    "            mat.at['Flag_IRD', 'Pass_Mine'] += 1\n",
    "        elif theirs[i] != 'Pass' and mine[i] != 'Pass':\n",
    "            mat.at['Flag_IRD', 'Flag_Mine'] += 1\n",
    "    \n",
    "    return(mat)\n",
    "\n",
    "\n",
    "def corr_incorr_confusion(theirs, mine):\n",
    "    \n",
    "    mat = pd.DataFrame([[0,0],[0,0]], index=['Pass_IRD', 'Flag_IRD'], columns=['Match', 'No Match'])\n",
    "    \n",
    "    for i in range(len(theirs)):\n",
    "        if theirs[i] == 'Pass' and mine[i] == 'Pass':\n",
    "            mat.at['Pass_IRD', 'Match'] += 1\n",
    "        elif theirs[i] == 'Pass' and mine[i] != 'Pass':\n",
    "            mat.at['Pass_IRD', 'No Match'] += 1\n",
    "        elif theirs[i] != 'Pass' and theirs[i] == mine[i]:\n",
    "            mat.at['Flag_IRD', 'Match'] += 1\n",
    "        elif theirs[i] != 'Pass' and theirs[i] != mine[i]:\n",
    "            mat.at['Flag_IRD', 'No Match'] += 1\n",
    "    \n",
    "    return(mat)    "
   ]
  },
  {
   "cell_type": "code",
   "execution_count": 3,
   "id": "101d87be-0f2b-464f-8b17-e9b9ecccc180",
   "metadata": {},
   "outputs": [],
   "source": [
    "# True Pass / True Pass + False Pass\n",
    "def pass_precision(mat):\n",
    "    \n",
    "    return((mat['Pass_Mine']['Pass_IRD'])/(mat['Pass_Mine']['Pass_IRD'] + mat['Pass_Mine']['Flag_IRD']))\n",
    "\n",
    "# True Pass / True Pass + False Flag (Also 'True Pass Rate' and 'Pass Accuracy')\n",
    "def pass_recall(mat):\n",
    "    \n",
    "    return((mat['Pass_Mine']['Pass_IRD'])/(mat['Pass_Mine']['Pass_IRD'] + mat['Flag_Mine']['Pass_IRD']))\n",
    "\n",
    "# True Flag / True Flag + False Flag\n",
    "def flag_precision(mat):\n",
    "    \n",
    "    return((mat['Flag_Mine']['Flag_IRD'])/(mat['Flag_Mine']['Flag_IRD'] + mat['Flag_Mine']['Pass_IRD']))\n",
    "\n",
    "# True Flag / True Flag + False Pass (Also 'True Flag Rate')\n",
    "def flag_recall(mat):\n",
    "    \n",
    "    return((mat['Flag_Mine']['Flag_IRD'])/(mat['Flag_Mine']['Flag_IRD'] + mat['Pass_Mine']['Flag_IRD'])) \n",
    "\n",
    "# How well flagged sequences actually got designated with the correct flag\n",
    "def flag_accuracy(mat):\n",
    "    \n",
    "    return((mat['Match']['Flag_IRD'])/(mat['Match']['Flag_IRD'] + mat['No Match']['Flag_IRD']))\n",
    "\n",
    "# How well 'My Flag' matches 'Actual Flag'\n",
    "def overall_accuracy(mat):\n",
    "    \n",
    "    return((mat['Match']['Pass_IRD'] + mat['Match']['Flag_IRD'])/(mat['Match']['Pass_IRD'] + mat['Match']['Flag_IRD'] + mat['No Match']['Pass_IRD'] + mat['No Match']['Flag_IRD']))"
   ]
  },
  {
   "cell_type": "markdown",
   "id": "89ca5984-1f2b-46df-939b-8ca15c56bb27",
   "metadata": {},
   "source": [
    "# (1) Performance With Gap Penalty "
   ]
  },
  {
   "cell_type": "markdown",
   "id": "8483c5a0-50d1-4ca6-8379-0981145f7fdc",
   "metadata": {},
   "source": [
    "## Influenza A Results"
   ]
  },
  {
   "cell_type": "code",
   "execution_count": 4,
   "id": "6462feb3-11b7-4581-ab52-6aee2bec28ae",
   "metadata": {},
   "outputs": [],
   "source": [
    "fluA_results = pd.read_csv(\"InfluenzaA_result.csv\")\n",
    "fluA_results = fluA_results[(fluA_results['Profile'] != 'Unknown')]\n",
    "actual = list(fluA_results['Actual Flag'])\n",
    "pred = list(fluA_results['My Flag'])"
   ]
  },
  {
   "cell_type": "code",
   "execution_count": 5,
   "id": "e2220634-6d5f-4dbb-828c-4095b77e0c37",
   "metadata": {},
   "outputs": [
    {
     "data": {
      "text/html": [
       "<div>\n",
       "<style scoped>\n",
       "    .dataframe tbody tr th:only-of-type {\n",
       "        vertical-align: middle;\n",
       "    }\n",
       "\n",
       "    .dataframe tbody tr th {\n",
       "        vertical-align: top;\n",
       "    }\n",
       "\n",
       "    .dataframe thead th {\n",
       "        text-align: right;\n",
       "    }\n",
       "</style>\n",
       "<table border=\"1\" class=\"dataframe\">\n",
       "  <thead>\n",
       "    <tr style=\"text-align: right;\">\n",
       "      <th></th>\n",
       "      <th>Pass_Mine</th>\n",
       "      <th>Flag_Mine</th>\n",
       "    </tr>\n",
       "  </thead>\n",
       "  <tbody>\n",
       "    <tr>\n",
       "      <th>Pass_IRD</th>\n",
       "      <td>989</td>\n",
       "      <td>21</td>\n",
       "    </tr>\n",
       "    <tr>\n",
       "      <th>Flag_IRD</th>\n",
       "      <td>63</td>\n",
       "      <td>714</td>\n",
       "    </tr>\n",
       "  </tbody>\n",
       "</table>\n",
       "</div>"
      ],
      "text/plain": [
       "          Pass_Mine  Flag_Mine\n",
       "Pass_IRD        989         21\n",
       "Flag_IRD         63        714"
      ]
     },
     "execution_count": 5,
     "metadata": {},
     "output_type": "execute_result"
    }
   ],
   "source": [
    "confusion1 = pass_flag_confusion(actual, pred)\n",
    "confusion1"
   ]
  },
  {
   "cell_type": "code",
   "execution_count": 6,
   "id": "beb3e1f0-0355-4bdb-8b08-33d38cf854fa",
   "metadata": {},
   "outputs": [
    {
     "data": {
      "text/html": [
       "<div>\n",
       "<style scoped>\n",
       "    .dataframe tbody tr th:only-of-type {\n",
       "        vertical-align: middle;\n",
       "    }\n",
       "\n",
       "    .dataframe tbody tr th {\n",
       "        vertical-align: top;\n",
       "    }\n",
       "\n",
       "    .dataframe thead th {\n",
       "        text-align: right;\n",
       "    }\n",
       "</style>\n",
       "<table border=\"1\" class=\"dataframe\">\n",
       "  <thead>\n",
       "    <tr style=\"text-align: right;\">\n",
       "      <th></th>\n",
       "      <th>Match</th>\n",
       "      <th>No Match</th>\n",
       "    </tr>\n",
       "  </thead>\n",
       "  <tbody>\n",
       "    <tr>\n",
       "      <th>Pass_IRD</th>\n",
       "      <td>989</td>\n",
       "      <td>21</td>\n",
       "    </tr>\n",
       "    <tr>\n",
       "      <th>Flag_IRD</th>\n",
       "      <td>655</td>\n",
       "      <td>122</td>\n",
       "    </tr>\n",
       "  </tbody>\n",
       "</table>\n",
       "</div>"
      ],
      "text/plain": [
       "          Match  No Match\n",
       "Pass_IRD    989        21\n",
       "Flag_IRD    655       122"
      ]
     },
     "execution_count": 6,
     "metadata": {},
     "output_type": "execute_result"
    }
   ],
   "source": [
    "confusion2 = corr_incorr_confusion(actual, pred)\n",
    "confusion2"
   ]
  },
  {
   "cell_type": "code",
   "execution_count": 7,
   "id": "ac5c9896-2219-4474-a4b8-088daacb78b9",
   "metadata": {},
   "outputs": [
    {
     "name": "stdout",
     "output_type": "stream",
     "text": [
      "Pass precision: 0.94\n",
      "Pass recall (Pass accuracy): 0.979\n",
      "\n",
      "\n",
      "Flag precision: 0.971\n",
      "Flag recall: 0.919\n",
      "\n",
      "\n",
      "Flag accuracy: 0.843\n",
      "Overall accuracy: 0.92\n"
     ]
    }
   ],
   "source": [
    "print(\"Pass precision:\", round(pass_precision(confusion1), 3))\n",
    "print(\"Pass recall (Pass accuracy):\", round(pass_recall(confusion1), 3))\n",
    "print('\\n')\n",
    "print(\"Flag precision:\", round(flag_precision(confusion1), 3))\n",
    "print(\"Flag recall:\", round(flag_recall(confusion1), 3))\n",
    "print('\\n')\n",
    "print(\"Flag accuracy:\", round(flag_accuracy(confusion2), 3))\n",
    "print(\"Overall accuracy:\", round(overall_accuracy(confusion2), 3))"
   ]
  },
  {
   "cell_type": "markdown",
   "id": "ca7362fd-550a-4169-ada0-165b69887b73",
   "metadata": {},
   "source": [
    "## Influenza B Results"
   ]
  },
  {
   "cell_type": "code",
   "execution_count": 8,
   "id": "2e38ab91-5223-47b4-b3f6-3d2309ee0a6c",
   "metadata": {},
   "outputs": [],
   "source": [
    "fluB_results = pd.read_csv(\"InfluenzaB_result.csv\")\n",
    "fluB_results = fluB_results[(fluB_results['Profile'] != 'Unknown')]\n",
    "actual = list(fluB_results['Actual Flag'])\n",
    "pred = list(fluB_results['My Flag'])"
   ]
  },
  {
   "cell_type": "code",
   "execution_count": 9,
   "id": "e6e5e23e-a0d5-442b-832f-b86322b560be",
   "metadata": {},
   "outputs": [
    {
     "data": {
      "text/html": [
       "<div>\n",
       "<style scoped>\n",
       "    .dataframe tbody tr th:only-of-type {\n",
       "        vertical-align: middle;\n",
       "    }\n",
       "\n",
       "    .dataframe tbody tr th {\n",
       "        vertical-align: top;\n",
       "    }\n",
       "\n",
       "    .dataframe thead th {\n",
       "        text-align: right;\n",
       "    }\n",
       "</style>\n",
       "<table border=\"1\" class=\"dataframe\">\n",
       "  <thead>\n",
       "    <tr style=\"text-align: right;\">\n",
       "      <th></th>\n",
       "      <th>Pass_Mine</th>\n",
       "      <th>Flag_Mine</th>\n",
       "    </tr>\n",
       "  </thead>\n",
       "  <tbody>\n",
       "    <tr>\n",
       "      <th>Pass_IRD</th>\n",
       "      <td>401</td>\n",
       "      <td>99</td>\n",
       "    </tr>\n",
       "    <tr>\n",
       "      <th>Flag_IRD</th>\n",
       "      <td>19</td>\n",
       "      <td>197</td>\n",
       "    </tr>\n",
       "  </tbody>\n",
       "</table>\n",
       "</div>"
      ],
      "text/plain": [
       "          Pass_Mine  Flag_Mine\n",
       "Pass_IRD        401         99\n",
       "Flag_IRD         19        197"
      ]
     },
     "execution_count": 9,
     "metadata": {},
     "output_type": "execute_result"
    }
   ],
   "source": [
    "confusion1 = pass_flag_confusion(actual, pred)\n",
    "confusion1"
   ]
  },
  {
   "cell_type": "code",
   "execution_count": 10,
   "id": "adb79a16-7cba-43f9-9142-17be29a6588f",
   "metadata": {},
   "outputs": [
    {
     "data": {
      "text/html": [
       "<div>\n",
       "<style scoped>\n",
       "    .dataframe tbody tr th:only-of-type {\n",
       "        vertical-align: middle;\n",
       "    }\n",
       "\n",
       "    .dataframe tbody tr th {\n",
       "        vertical-align: top;\n",
       "    }\n",
       "\n",
       "    .dataframe thead th {\n",
       "        text-align: right;\n",
       "    }\n",
       "</style>\n",
       "<table border=\"1\" class=\"dataframe\">\n",
       "  <thead>\n",
       "    <tr style=\"text-align: right;\">\n",
       "      <th></th>\n",
       "      <th>Match</th>\n",
       "      <th>No Match</th>\n",
       "    </tr>\n",
       "  </thead>\n",
       "  <tbody>\n",
       "    <tr>\n",
       "      <th>Pass_IRD</th>\n",
       "      <td>401</td>\n",
       "      <td>99</td>\n",
       "    </tr>\n",
       "    <tr>\n",
       "      <th>Flag_IRD</th>\n",
       "      <td>189</td>\n",
       "      <td>27</td>\n",
       "    </tr>\n",
       "  </tbody>\n",
       "</table>\n",
       "</div>"
      ],
      "text/plain": [
       "          Match  No Match\n",
       "Pass_IRD    401        99\n",
       "Flag_IRD    189        27"
      ]
     },
     "execution_count": 10,
     "metadata": {},
     "output_type": "execute_result"
    }
   ],
   "source": [
    "confusion2 = corr_incorr_confusion(actual, pred)\n",
    "confusion2"
   ]
  },
  {
   "cell_type": "code",
   "execution_count": 11,
   "id": "e3f0d94c-c9d5-4374-8a98-6b0e5d621b48",
   "metadata": {},
   "outputs": [
    {
     "name": "stdout",
     "output_type": "stream",
     "text": [
      "Pass precision: 0.955\n",
      "Pass recall (Pass accuracy): 0.802\n",
      "\n",
      "\n",
      "Flag precision: 0.666\n",
      "Flag recall: 0.912\n",
      "\n",
      "\n",
      "Flag accuracy: 0.875\n",
      "Overall accuracy: 0.824\n"
     ]
    }
   ],
   "source": [
    "print(\"Pass precision:\", round(pass_precision(confusion1), 3))\n",
    "print(\"Pass recall (Pass accuracy):\", round(pass_recall(confusion1), 3))\n",
    "print('\\n')\n",
    "print(\"Flag precision:\", round(flag_precision(confusion1), 3))\n",
    "print(\"Flag recall:\", round(flag_recall(confusion1), 3))\n",
    "print('\\n')\n",
    "print(\"Flag accuracy:\", round(flag_accuracy(confusion2), 3))\n",
    "print(\"Overall accuracy:\", round(overall_accuracy(confusion2), 3))"
   ]
  },
  {
   "cell_type": "markdown",
   "id": "7b767240-e009-414b-b38d-1d46083d8e2d",
   "metadata": {},
   "source": [
    "## Influenza C Results"
   ]
  },
  {
   "cell_type": "code",
   "execution_count": 14,
   "id": "1d3fae19-d232-43f7-a6be-89f9427f2628",
   "metadata": {},
   "outputs": [],
   "source": [
    "fluC_results = pd.read_csv(\"InfluenzaC_result.csv\")\n",
    "fluC_results = fluC_results[(fluC_results['Profile'] != 'Unknown')]\n",
    "actual = list(fluC_results['Actual Flag'])\n",
    "pred = list(fluC_results['My Flag'])"
   ]
  },
  {
   "cell_type": "code",
   "execution_count": 15,
   "id": "cd0008af-ed58-46ea-a0c2-d51f7aa825c9",
   "metadata": {},
   "outputs": [
    {
     "data": {
      "text/html": [
       "<div>\n",
       "<style scoped>\n",
       "    .dataframe tbody tr th:only-of-type {\n",
       "        vertical-align: middle;\n",
       "    }\n",
       "\n",
       "    .dataframe tbody tr th {\n",
       "        vertical-align: top;\n",
       "    }\n",
       "\n",
       "    .dataframe thead th {\n",
       "        text-align: right;\n",
       "    }\n",
       "</style>\n",
       "<table border=\"1\" class=\"dataframe\">\n",
       "  <thead>\n",
       "    <tr style=\"text-align: right;\">\n",
       "      <th></th>\n",
       "      <th>Pass_Mine</th>\n",
       "      <th>Flag_Mine</th>\n",
       "    </tr>\n",
       "  </thead>\n",
       "  <tbody>\n",
       "    <tr>\n",
       "      <th>Pass_IRD</th>\n",
       "      <td>69</td>\n",
       "      <td>1</td>\n",
       "    </tr>\n",
       "    <tr>\n",
       "      <th>Flag_IRD</th>\n",
       "      <td>0</td>\n",
       "      <td>0</td>\n",
       "    </tr>\n",
       "  </tbody>\n",
       "</table>\n",
       "</div>"
      ],
      "text/plain": [
       "          Pass_Mine  Flag_Mine\n",
       "Pass_IRD         69          1\n",
       "Flag_IRD          0          0"
      ]
     },
     "execution_count": 15,
     "metadata": {},
     "output_type": "execute_result"
    }
   ],
   "source": [
    "confusion1 = pass_flag_confusion(actual, pred)\n",
    "confusion1"
   ]
  },
  {
   "cell_type": "code",
   "execution_count": 16,
   "id": "5e3242f3-7491-4507-8fcf-ac5f7be73125",
   "metadata": {},
   "outputs": [
    {
     "data": {
      "text/html": [
       "<div>\n",
       "<style scoped>\n",
       "    .dataframe tbody tr th:only-of-type {\n",
       "        vertical-align: middle;\n",
       "    }\n",
       "\n",
       "    .dataframe tbody tr th {\n",
       "        vertical-align: top;\n",
       "    }\n",
       "\n",
       "    .dataframe thead th {\n",
       "        text-align: right;\n",
       "    }\n",
       "</style>\n",
       "<table border=\"1\" class=\"dataframe\">\n",
       "  <thead>\n",
       "    <tr style=\"text-align: right;\">\n",
       "      <th></th>\n",
       "      <th>Match</th>\n",
       "      <th>No Match</th>\n",
       "    </tr>\n",
       "  </thead>\n",
       "  <tbody>\n",
       "    <tr>\n",
       "      <th>Pass_IRD</th>\n",
       "      <td>69</td>\n",
       "      <td>1</td>\n",
       "    </tr>\n",
       "    <tr>\n",
       "      <th>Flag_IRD</th>\n",
       "      <td>0</td>\n",
       "      <td>0</td>\n",
       "    </tr>\n",
       "  </tbody>\n",
       "</table>\n",
       "</div>"
      ],
      "text/plain": [
       "          Match  No Match\n",
       "Pass_IRD     69         1\n",
       "Flag_IRD      0         0"
      ]
     },
     "execution_count": 16,
     "metadata": {},
     "output_type": "execute_result"
    }
   ],
   "source": [
    "confusion2 = corr_incorr_confusion(actual, pred)\n",
    "confusion2"
   ]
  },
  {
   "cell_type": "code",
   "execution_count": 17,
   "id": "cb7ca7e2-e3f6-4d9a-ab12-20054375f0fd",
   "metadata": {},
   "outputs": [
    {
     "name": "stdout",
     "output_type": "stream",
     "text": [
      "Pass precision: 1.0\n",
      "Pass recall (Pass accuracy): 0.986\n",
      "\n",
      "\n",
      "Flag precision: 0.0\n",
      "Flag recall: nan\n",
      "\n",
      "\n",
      "Flag accuracy: nan\n",
      "Overall accuracy: 0.986\n"
     ]
    }
   ],
   "source": [
    "print(\"Pass precision:\", round(pass_precision(confusion1), 3))\n",
    "print(\"Pass recall (Pass accuracy):\", round(pass_recall(confusion1), 3))\n",
    "print('\\n')\n",
    "print(\"Flag precision:\", round(flag_precision(confusion1), 3))\n",
    "print(\"Flag recall:\", round(flag_recall(confusion1), 3))\n",
    "print('\\n')\n",
    "print(\"Flag accuracy:\", round(flag_accuracy(confusion2), 3))\n",
    "print(\"Overall accuracy:\", round(overall_accuracy(confusion2), 3))"
   ]
  },
  {
   "cell_type": "markdown",
   "id": "f95833da-e11b-4f97-a4fe-2c833f847f05",
   "metadata": {},
   "source": [
    "## Influenza D Results"
   ]
  },
  {
   "cell_type": "code",
   "execution_count": 18,
   "id": "db654d75-b621-4ad0-b25a-8b3b5ccd2066",
   "metadata": {},
   "outputs": [],
   "source": [
    "fluD_results = pd.read_csv(\"InfluenzaD_result.csv\")\n",
    "fluD_results = fluD_results[(fluD_results['Profile'] != 'Unknown')]\n",
    "actual = list(fluD_results['Actual Flag'])\n",
    "pred = list(fluD_results['My Flag'])"
   ]
  },
  {
   "cell_type": "code",
   "execution_count": 19,
   "id": "e7847822-f795-4bd8-9778-4daa44ddd3cf",
   "metadata": {},
   "outputs": [
    {
     "data": {
      "text/html": [
       "<div>\n",
       "<style scoped>\n",
       "    .dataframe tbody tr th:only-of-type {\n",
       "        vertical-align: middle;\n",
       "    }\n",
       "\n",
       "    .dataframe tbody tr th {\n",
       "        vertical-align: top;\n",
       "    }\n",
       "\n",
       "    .dataframe thead th {\n",
       "        text-align: right;\n",
       "    }\n",
       "</style>\n",
       "<table border=\"1\" class=\"dataframe\">\n",
       "  <thead>\n",
       "    <tr style=\"text-align: right;\">\n",
       "      <th></th>\n",
       "      <th>Pass_Mine</th>\n",
       "      <th>Flag_Mine</th>\n",
       "    </tr>\n",
       "  </thead>\n",
       "  <tbody>\n",
       "    <tr>\n",
       "      <th>Pass_IRD</th>\n",
       "      <td>253</td>\n",
       "      <td>0</td>\n",
       "    </tr>\n",
       "    <tr>\n",
       "      <th>Flag_IRD</th>\n",
       "      <td>0</td>\n",
       "      <td>23</td>\n",
       "    </tr>\n",
       "  </tbody>\n",
       "</table>\n",
       "</div>"
      ],
      "text/plain": [
       "          Pass_Mine  Flag_Mine\n",
       "Pass_IRD        253          0\n",
       "Flag_IRD          0         23"
      ]
     },
     "execution_count": 19,
     "metadata": {},
     "output_type": "execute_result"
    }
   ],
   "source": [
    "confusion1 = pass_flag_confusion(actual, pred)\n",
    "confusion1"
   ]
  },
  {
   "cell_type": "code",
   "execution_count": 20,
   "id": "1aa07e0e-6a32-4a44-acd4-b13ab9fa9fd5",
   "metadata": {},
   "outputs": [
    {
     "data": {
      "text/html": [
       "<div>\n",
       "<style scoped>\n",
       "    .dataframe tbody tr th:only-of-type {\n",
       "        vertical-align: middle;\n",
       "    }\n",
       "\n",
       "    .dataframe tbody tr th {\n",
       "        vertical-align: top;\n",
       "    }\n",
       "\n",
       "    .dataframe thead th {\n",
       "        text-align: right;\n",
       "    }\n",
       "</style>\n",
       "<table border=\"1\" class=\"dataframe\">\n",
       "  <thead>\n",
       "    <tr style=\"text-align: right;\">\n",
       "      <th></th>\n",
       "      <th>Match</th>\n",
       "      <th>No Match</th>\n",
       "    </tr>\n",
       "  </thead>\n",
       "  <tbody>\n",
       "    <tr>\n",
       "      <th>Pass_IRD</th>\n",
       "      <td>253</td>\n",
       "      <td>0</td>\n",
       "    </tr>\n",
       "    <tr>\n",
       "      <th>Flag_IRD</th>\n",
       "      <td>13</td>\n",
       "      <td>10</td>\n",
       "    </tr>\n",
       "  </tbody>\n",
       "</table>\n",
       "</div>"
      ],
      "text/plain": [
       "          Match  No Match\n",
       "Pass_IRD    253         0\n",
       "Flag_IRD     13        10"
      ]
     },
     "execution_count": 20,
     "metadata": {},
     "output_type": "execute_result"
    }
   ],
   "source": [
    "confusion2 = corr_incorr_confusion(actual, pred)\n",
    "confusion2"
   ]
  },
  {
   "cell_type": "code",
   "execution_count": 21,
   "id": "b08fd82c-6741-40be-b0df-ab9c8d64c4ea",
   "metadata": {},
   "outputs": [
    {
     "name": "stdout",
     "output_type": "stream",
     "text": [
      "Pass precision: 1.0\n",
      "Pass recall (Pass accuracy): 1.0\n",
      "\n",
      "\n",
      "Flag precision: 1.0\n",
      "Flag recall: 1.0\n",
      "\n",
      "\n",
      "Flag accuracy: 0.565\n",
      "Overall accuracy: 0.964\n"
     ]
    }
   ],
   "source": [
    "print(\"Pass precision:\", round(pass_precision(confusion1), 3))\n",
    "print(\"Pass recall (Pass accuracy):\", round(pass_recall(confusion1), 3))\n",
    "print('\\n')\n",
    "print(\"Flag precision:\", round(flag_precision(confusion1), 3))\n",
    "print(\"Flag recall:\", round(flag_recall(confusion1), 3))\n",
    "print('\\n')\n",
    "print(\"Flag accuracy:\", round(flag_accuracy(confusion2), 3))\n",
    "print(\"Overall accuracy:\", round(overall_accuracy(confusion2), 3))"
   ]
  },
  {
   "cell_type": "markdown",
   "id": "9d88abfe-d95f-49a9-a71e-424f65ba3e47",
   "metadata": {},
   "source": [
    "## Overall Results"
   ]
  },
  {
   "cell_type": "code",
   "execution_count": 22,
   "id": "e262b6b1-e31a-43e7-8dea-ec3f7c20bf25",
   "metadata": {},
   "outputs": [],
   "source": [
    "all_flu_results = pd.concat([fluA_results, fluB_results, fluC_results, fluD_results], axis = 0)\n",
    "actual = list(all_flu_results['Actual Flag'])\n",
    "pred = list(all_flu_results['My Flag'])"
   ]
  },
  {
   "cell_type": "code",
   "execution_count": 23,
   "id": "66a33629-ab7e-4112-84c4-887687a845bf",
   "metadata": {},
   "outputs": [
    {
     "data": {
      "text/html": [
       "<div>\n",
       "<style scoped>\n",
       "    .dataframe tbody tr th:only-of-type {\n",
       "        vertical-align: middle;\n",
       "    }\n",
       "\n",
       "    .dataframe tbody tr th {\n",
       "        vertical-align: top;\n",
       "    }\n",
       "\n",
       "    .dataframe thead th {\n",
       "        text-align: right;\n",
       "    }\n",
       "</style>\n",
       "<table border=\"1\" class=\"dataframe\">\n",
       "  <thead>\n",
       "    <tr style=\"text-align: right;\">\n",
       "      <th></th>\n",
       "      <th>Pass_Mine</th>\n",
       "      <th>Flag_Mine</th>\n",
       "    </tr>\n",
       "  </thead>\n",
       "  <tbody>\n",
       "    <tr>\n",
       "      <th>Pass_IRD</th>\n",
       "      <td>1712</td>\n",
       "      <td>121</td>\n",
       "    </tr>\n",
       "    <tr>\n",
       "      <th>Flag_IRD</th>\n",
       "      <td>82</td>\n",
       "      <td>934</td>\n",
       "    </tr>\n",
       "  </tbody>\n",
       "</table>\n",
       "</div>"
      ],
      "text/plain": [
       "          Pass_Mine  Flag_Mine\n",
       "Pass_IRD       1712        121\n",
       "Flag_IRD         82        934"
      ]
     },
     "execution_count": 23,
     "metadata": {},
     "output_type": "execute_result"
    }
   ],
   "source": [
    "confusion1 = pass_flag_confusion(actual, pred)\n",
    "confusion1"
   ]
  },
  {
   "cell_type": "code",
   "execution_count": 24,
   "id": "6afa9f61-2762-4f74-944a-a4550464490c",
   "metadata": {},
   "outputs": [
    {
     "data": {
      "text/html": [
       "<div>\n",
       "<style scoped>\n",
       "    .dataframe tbody tr th:only-of-type {\n",
       "        vertical-align: middle;\n",
       "    }\n",
       "\n",
       "    .dataframe tbody tr th {\n",
       "        vertical-align: top;\n",
       "    }\n",
       "\n",
       "    .dataframe thead th {\n",
       "        text-align: right;\n",
       "    }\n",
       "</style>\n",
       "<table border=\"1\" class=\"dataframe\">\n",
       "  <thead>\n",
       "    <tr style=\"text-align: right;\">\n",
       "      <th></th>\n",
       "      <th>Match</th>\n",
       "      <th>No Match</th>\n",
       "    </tr>\n",
       "  </thead>\n",
       "  <tbody>\n",
       "    <tr>\n",
       "      <th>Pass_IRD</th>\n",
       "      <td>1712</td>\n",
       "      <td>121</td>\n",
       "    </tr>\n",
       "    <tr>\n",
       "      <th>Flag_IRD</th>\n",
       "      <td>857</td>\n",
       "      <td>159</td>\n",
       "    </tr>\n",
       "  </tbody>\n",
       "</table>\n",
       "</div>"
      ],
      "text/plain": [
       "          Match  No Match\n",
       "Pass_IRD   1712       121\n",
       "Flag_IRD    857       159"
      ]
     },
     "execution_count": 24,
     "metadata": {},
     "output_type": "execute_result"
    }
   ],
   "source": [
    "confusion2 = corr_incorr_confusion(actual, pred)\n",
    "confusion2"
   ]
  },
  {
   "cell_type": "code",
   "execution_count": 25,
   "id": "d86094ac-c0da-4a1f-99bb-07d372f339cd",
   "metadata": {},
   "outputs": [
    {
     "name": "stdout",
     "output_type": "stream",
     "text": [
      "Pass precision: 0.954\n",
      "Pass recall (Pass accuracy): 0.934\n",
      "\n",
      "\n",
      "Flag precision: 0.885\n",
      "Flag recall: 0.919\n",
      "\n",
      "\n",
      "Flag accuracy: 0.844\n",
      "Overall accuracy: 0.902\n"
     ]
    }
   ],
   "source": [
    "print(\"Pass precision:\", round(pass_precision(confusion1), 3))\n",
    "print(\"Pass recall (Pass accuracy):\", round(pass_recall(confusion1), 3))\n",
    "print('\\n')\n",
    "print(\"Flag precision:\", round(flag_precision(confusion1), 3))\n",
    "print(\"Flag recall:\", round(flag_recall(confusion1), 3))\n",
    "print('\\n')\n",
    "print(\"Flag accuracy:\", round(flag_accuracy(confusion2), 3))\n",
    "print(\"Overall accuracy:\", round(overall_accuracy(confusion2), 3))"
   ]
  },
  {
   "cell_type": "markdown",
   "id": "5d910d79-5658-4f0d-8095-5778f0dfcd93",
   "metadata": {},
   "source": [
    "# (2) Performance Without Gap Penalty"
   ]
  },
  {
   "cell_type": "markdown",
   "id": "e19c055e-7e73-4239-a8d8-4ea8d24ce937",
   "metadata": {},
   "source": [
    "## Influenza A Results"
   ]
  },
  {
   "cell_type": "code",
   "execution_count": 5,
   "id": "4dc96b29-d6b0-4219-b989-d938b5c58fb3",
   "metadata": {},
   "outputs": [],
   "source": [
    "fluA_results = pd.read_csv(\"InfluenzaA_result_2.csv\")\n",
    "actual = list(fluA_results['Actual Flag'])\n",
    "pred = list(fluA_results['My Flag'])"
   ]
  },
  {
   "cell_type": "code",
   "execution_count": 6,
   "id": "0cd4eedb-67eb-4eb6-b24e-2e3836e23ac6",
   "metadata": {},
   "outputs": [
    {
     "data": {
      "text/html": [
       "<div>\n",
       "<style scoped>\n",
       "    .dataframe tbody tr th:only-of-type {\n",
       "        vertical-align: middle;\n",
       "    }\n",
       "\n",
       "    .dataframe tbody tr th {\n",
       "        vertical-align: top;\n",
       "    }\n",
       "\n",
       "    .dataframe thead th {\n",
       "        text-align: right;\n",
       "    }\n",
       "</style>\n",
       "<table border=\"1\" class=\"dataframe\">\n",
       "  <thead>\n",
       "    <tr style=\"text-align: right;\">\n",
       "      <th></th>\n",
       "      <th>Pass_Mine</th>\n",
       "      <th>Flag_Mine</th>\n",
       "    </tr>\n",
       "  </thead>\n",
       "  <tbody>\n",
       "    <tr>\n",
       "      <th>Pass_IRD</th>\n",
       "      <td>945</td>\n",
       "      <td>65</td>\n",
       "    </tr>\n",
       "    <tr>\n",
       "      <th>Flag_IRD</th>\n",
       "      <td>24</td>\n",
       "      <td>777</td>\n",
       "    </tr>\n",
       "  </tbody>\n",
       "</table>\n",
       "</div>"
      ],
      "text/plain": [
       "          Pass_Mine  Flag_Mine\n",
       "Pass_IRD        945         65\n",
       "Flag_IRD         24        777"
      ]
     },
     "execution_count": 6,
     "metadata": {},
     "output_type": "execute_result"
    }
   ],
   "source": [
    "confusion1 = pass_flag_confusion(actual, pred)\n",
    "confusion1"
   ]
  },
  {
   "cell_type": "code",
   "execution_count": 7,
   "id": "4b7189aa-8a57-4aaf-b092-c45d6f50abe6",
   "metadata": {},
   "outputs": [
    {
     "data": {
      "text/html": [
       "<div>\n",
       "<style scoped>\n",
       "    .dataframe tbody tr th:only-of-type {\n",
       "        vertical-align: middle;\n",
       "    }\n",
       "\n",
       "    .dataframe tbody tr th {\n",
       "        vertical-align: top;\n",
       "    }\n",
       "\n",
       "    .dataframe thead th {\n",
       "        text-align: right;\n",
       "    }\n",
       "</style>\n",
       "<table border=\"1\" class=\"dataframe\">\n",
       "  <thead>\n",
       "    <tr style=\"text-align: right;\">\n",
       "      <th></th>\n",
       "      <th>Match</th>\n",
       "      <th>No Match</th>\n",
       "    </tr>\n",
       "  </thead>\n",
       "  <tbody>\n",
       "    <tr>\n",
       "      <th>Pass_IRD</th>\n",
       "      <td>945</td>\n",
       "      <td>65</td>\n",
       "    </tr>\n",
       "    <tr>\n",
       "      <th>Flag_IRD</th>\n",
       "      <td>693</td>\n",
       "      <td>108</td>\n",
       "    </tr>\n",
       "  </tbody>\n",
       "</table>\n",
       "</div>"
      ],
      "text/plain": [
       "          Match  No Match\n",
       "Pass_IRD    945        65\n",
       "Flag_IRD    693       108"
      ]
     },
     "execution_count": 7,
     "metadata": {},
     "output_type": "execute_result"
    }
   ],
   "source": [
    "confusion2 = corr_incorr_confusion(actual, pred)\n",
    "confusion2"
   ]
  },
  {
   "cell_type": "code",
   "execution_count": 8,
   "id": "d58d555b-7805-4596-89f1-770c29148186",
   "metadata": {},
   "outputs": [
    {
     "name": "stdout",
     "output_type": "stream",
     "text": [
      "Pass precision: 0.975\n",
      "Pass recall (Pass accuracy): 0.936\n",
      "\n",
      "\n",
      "Flag precision: 0.923\n",
      "Flag recall: 0.97\n",
      "\n",
      "\n",
      "Flag accuracy: 0.865\n",
      "Overall accuracy: 0.904\n"
     ]
    }
   ],
   "source": [
    "print(\"Pass precision:\", round(pass_precision(confusion1), 3))\n",
    "print(\"Pass recall (Pass accuracy):\", round(pass_recall(confusion1), 3))\n",
    "print('\\n')\n",
    "print(\"Flag precision:\", round(flag_precision(confusion1), 3))\n",
    "print(\"Flag recall:\", round(flag_recall(confusion1), 3))\n",
    "print('\\n')\n",
    "print(\"Flag accuracy:\", round(flag_accuracy(confusion2), 3))\n",
    "print(\"Overall accuracy:\", round(overall_accuracy(confusion2), 3))"
   ]
  },
  {
   "cell_type": "markdown",
   "id": "9958e787-1e0f-497e-9424-32da89eb0c72",
   "metadata": {},
   "source": [
    "## Influenza B Results"
   ]
  },
  {
   "cell_type": "code",
   "execution_count": 27,
   "id": "d68f11f6-9580-44d8-8635-40ac84bc6f2f",
   "metadata": {},
   "outputs": [],
   "source": [
    "fluB_results = pd.read_csv(\"InfluenzaB_result_2.csv\")\n",
    "actual = list(fluB_results['Actual Flag'])\n",
    "pred = list(fluB_results['My Flag'])"
   ]
  },
  {
   "cell_type": "code",
   "execution_count": 28,
   "id": "b6456028-c5eb-428c-ac86-70e68f6ff0ad",
   "metadata": {},
   "outputs": [
    {
     "data": {
      "text/html": [
       "<div>\n",
       "<style scoped>\n",
       "    .dataframe tbody tr th:only-of-type {\n",
       "        vertical-align: middle;\n",
       "    }\n",
       "\n",
       "    .dataframe tbody tr th {\n",
       "        vertical-align: top;\n",
       "    }\n",
       "\n",
       "    .dataframe thead th {\n",
       "        text-align: right;\n",
       "    }\n",
       "</style>\n",
       "<table border=\"1\" class=\"dataframe\">\n",
       "  <thead>\n",
       "    <tr style=\"text-align: right;\">\n",
       "      <th></th>\n",
       "      <th>Pass_Mine</th>\n",
       "      <th>Flag_Mine</th>\n",
       "    </tr>\n",
       "  </thead>\n",
       "  <tbody>\n",
       "    <tr>\n",
       "      <th>Pass_IRD</th>\n",
       "      <td>385</td>\n",
       "      <td>115</td>\n",
       "    </tr>\n",
       "    <tr>\n",
       "      <th>Flag_IRD</th>\n",
       "      <td>1</td>\n",
       "      <td>215</td>\n",
       "    </tr>\n",
       "  </tbody>\n",
       "</table>\n",
       "</div>"
      ],
      "text/plain": [
       "          Pass_Mine  Flag_Mine\n",
       "Pass_IRD        385        115\n",
       "Flag_IRD          1        215"
      ]
     },
     "execution_count": 28,
     "metadata": {},
     "output_type": "execute_result"
    }
   ],
   "source": [
    "confusion1 = pass_flag_confusion(actual, pred)\n",
    "confusion1"
   ]
  },
  {
   "cell_type": "code",
   "execution_count": 29,
   "id": "1fa91ade-a275-456d-a944-9e28907b357d",
   "metadata": {},
   "outputs": [
    {
     "data": {
      "text/html": [
       "<div>\n",
       "<style scoped>\n",
       "    .dataframe tbody tr th:only-of-type {\n",
       "        vertical-align: middle;\n",
       "    }\n",
       "\n",
       "    .dataframe tbody tr th {\n",
       "        vertical-align: top;\n",
       "    }\n",
       "\n",
       "    .dataframe thead th {\n",
       "        text-align: right;\n",
       "    }\n",
       "</style>\n",
       "<table border=\"1\" class=\"dataframe\">\n",
       "  <thead>\n",
       "    <tr style=\"text-align: right;\">\n",
       "      <th></th>\n",
       "      <th>Match</th>\n",
       "      <th>No Match</th>\n",
       "    </tr>\n",
       "  </thead>\n",
       "  <tbody>\n",
       "    <tr>\n",
       "      <th>Pass_IRD</th>\n",
       "      <td>385</td>\n",
       "      <td>115</td>\n",
       "    </tr>\n",
       "    <tr>\n",
       "      <th>Flag_IRD</th>\n",
       "      <td>202</td>\n",
       "      <td>14</td>\n",
       "    </tr>\n",
       "  </tbody>\n",
       "</table>\n",
       "</div>"
      ],
      "text/plain": [
       "          Match  No Match\n",
       "Pass_IRD    385       115\n",
       "Flag_IRD    202        14"
      ]
     },
     "execution_count": 29,
     "metadata": {},
     "output_type": "execute_result"
    }
   ],
   "source": [
    "confusion2 = corr_incorr_confusion(actual, pred)\n",
    "confusion2"
   ]
  },
  {
   "cell_type": "code",
   "execution_count": 30,
   "id": "c43f70b1-b50f-4530-a805-71874e44706e",
   "metadata": {},
   "outputs": [
    {
     "name": "stdout",
     "output_type": "stream",
     "text": [
      "Pass precision: 0.997\n",
      "Pass recall (Pass accuracy): 0.77\n",
      "\n",
      "\n",
      "Flag precision: 0.652\n",
      "Flag recall: 0.995\n",
      "\n",
      "\n",
      "Flag accuracy: 0.935\n",
      "Overall accuracy: 0.82\n"
     ]
    }
   ],
   "source": [
    "print(\"Pass precision:\", round(pass_precision(confusion1), 3))\n",
    "print(\"Pass recall (Pass accuracy):\", round(pass_recall(confusion1), 3))\n",
    "print('\\n')\n",
    "print(\"Flag precision:\", round(flag_precision(confusion1), 3))\n",
    "print(\"Flag recall:\", round(flag_recall(confusion1), 3))\n",
    "print('\\n')\n",
    "print(\"Flag accuracy:\", round(flag_accuracy(confusion2), 3))\n",
    "print(\"Overall accuracy:\", round(overall_accuracy(confusion2), 3))"
   ]
  },
  {
   "cell_type": "markdown",
   "id": "9e4edd3c-d1a4-4004-ad86-0a09ad466951",
   "metadata": {},
   "source": [
    "## Influenza C Results"
   ]
  },
  {
   "cell_type": "code",
   "execution_count": 45,
   "id": "3d8c48c3-fa03-44b2-89b0-0601d73f9c16",
   "metadata": {},
   "outputs": [],
   "source": [
    "fluC_results = pd.read_csv(\"InfluenzaC_result_2.csv\")\n",
    "actual = list(fluC_results['Actual Flag'])\n",
    "pred = list(fluC_results['My Flag'])"
   ]
  },
  {
   "cell_type": "code",
   "execution_count": 46,
   "id": "6e27d9ac-01c7-4400-b6f6-bcbc9be2dc49",
   "metadata": {},
   "outputs": [
    {
     "data": {
      "text/html": [
       "<div>\n",
       "<style scoped>\n",
       "    .dataframe tbody tr th:only-of-type {\n",
       "        vertical-align: middle;\n",
       "    }\n",
       "\n",
       "    .dataframe tbody tr th {\n",
       "        vertical-align: top;\n",
       "    }\n",
       "\n",
       "    .dataframe thead th {\n",
       "        text-align: right;\n",
       "    }\n",
       "</style>\n",
       "<table border=\"1\" class=\"dataframe\">\n",
       "  <thead>\n",
       "    <tr style=\"text-align: right;\">\n",
       "      <th></th>\n",
       "      <th>Pass_Mine</th>\n",
       "      <th>Flag_Mine</th>\n",
       "    </tr>\n",
       "  </thead>\n",
       "  <tbody>\n",
       "    <tr>\n",
       "      <th>Pass_IRD</th>\n",
       "      <td>68</td>\n",
       "      <td>2</td>\n",
       "    </tr>\n",
       "    <tr>\n",
       "      <th>Flag_IRD</th>\n",
       "      <td>0</td>\n",
       "      <td>0</td>\n",
       "    </tr>\n",
       "  </tbody>\n",
       "</table>\n",
       "</div>"
      ],
      "text/plain": [
       "          Pass_Mine  Flag_Mine\n",
       "Pass_IRD         68          2\n",
       "Flag_IRD          0          0"
      ]
     },
     "execution_count": 46,
     "metadata": {},
     "output_type": "execute_result"
    }
   ],
   "source": [
    "confusion1 = pass_flag_confusion(actual, pred)\n",
    "confusion1"
   ]
  },
  {
   "cell_type": "code",
   "execution_count": 47,
   "id": "0ae9c5e7-1fb7-4b2d-a746-8c53d926500a",
   "metadata": {},
   "outputs": [
    {
     "data": {
      "text/html": [
       "<div>\n",
       "<style scoped>\n",
       "    .dataframe tbody tr th:only-of-type {\n",
       "        vertical-align: middle;\n",
       "    }\n",
       "\n",
       "    .dataframe tbody tr th {\n",
       "        vertical-align: top;\n",
       "    }\n",
       "\n",
       "    .dataframe thead th {\n",
       "        text-align: right;\n",
       "    }\n",
       "</style>\n",
       "<table border=\"1\" class=\"dataframe\">\n",
       "  <thead>\n",
       "    <tr style=\"text-align: right;\">\n",
       "      <th></th>\n",
       "      <th>Match</th>\n",
       "      <th>No Match</th>\n",
       "    </tr>\n",
       "  </thead>\n",
       "  <tbody>\n",
       "    <tr>\n",
       "      <th>Pass_IRD</th>\n",
       "      <td>68</td>\n",
       "      <td>2</td>\n",
       "    </tr>\n",
       "    <tr>\n",
       "      <th>Flag_IRD</th>\n",
       "      <td>0</td>\n",
       "      <td>0</td>\n",
       "    </tr>\n",
       "  </tbody>\n",
       "</table>\n",
       "</div>"
      ],
      "text/plain": [
       "          Match  No Match\n",
       "Pass_IRD     68         2\n",
       "Flag_IRD      0         0"
      ]
     },
     "execution_count": 47,
     "metadata": {},
     "output_type": "execute_result"
    }
   ],
   "source": [
    "confusion2 = corr_incorr_confusion(actual, pred)\n",
    "confusion2"
   ]
  },
  {
   "cell_type": "code",
   "execution_count": 48,
   "id": "d18a5a80-3d2b-4071-bfa0-b422b4b25a70",
   "metadata": {},
   "outputs": [
    {
     "name": "stdout",
     "output_type": "stream",
     "text": [
      "Pass precision: 1.0\n",
      "Pass recall (Pass accuracy): 0.971\n",
      "\n",
      "\n",
      "Flag precision: 0.0\n",
      "Flag recall: nan\n",
      "\n",
      "\n",
      "Flag accuracy: nan\n",
      "Overall accuracy: 0.971\n"
     ]
    }
   ],
   "source": [
    "print(\"Pass precision:\", round(pass_precision(confusion1), 3))\n",
    "print(\"Pass recall (Pass accuracy):\", round(pass_recall(confusion1), 3))\n",
    "print('\\n')\n",
    "print(\"Flag precision:\", round(flag_precision(confusion1), 3))\n",
    "print(\"Flag recall:\", round(flag_recall(confusion1), 3))\n",
    "print('\\n')\n",
    "print(\"Flag accuracy:\", round(flag_accuracy(confusion2), 3))\n",
    "print(\"Overall accuracy:\", round(overall_accuracy(confusion2), 3))"
   ]
  },
  {
   "cell_type": "markdown",
   "id": "748a7aba-7a4c-40c0-8c35-3b3e0310ba21",
   "metadata": {},
   "source": [
    "## Influenza D Results"
   ]
  },
  {
   "cell_type": "code",
   "execution_count": 49,
   "id": "551fb91f-82d4-4e02-8a48-d59d6324a63a",
   "metadata": {},
   "outputs": [],
   "source": [
    "fluD_results = pd.read_csv(\"InfluenzaD_result_2.csv\")\n",
    "actual = list(fluD_results['Actual Flag'])\n",
    "pred = list(fluD_results['My Flag'])"
   ]
  },
  {
   "cell_type": "code",
   "execution_count": 50,
   "id": "477c30c7-8f61-46cb-9292-fd6399ba1611",
   "metadata": {},
   "outputs": [
    {
     "data": {
      "text/html": [
       "<div>\n",
       "<style scoped>\n",
       "    .dataframe tbody tr th:only-of-type {\n",
       "        vertical-align: middle;\n",
       "    }\n",
       "\n",
       "    .dataframe tbody tr th {\n",
       "        vertical-align: top;\n",
       "    }\n",
       "\n",
       "    .dataframe thead th {\n",
       "        text-align: right;\n",
       "    }\n",
       "</style>\n",
       "<table border=\"1\" class=\"dataframe\">\n",
       "  <thead>\n",
       "    <tr style=\"text-align: right;\">\n",
       "      <th></th>\n",
       "      <th>Pass_Mine</th>\n",
       "      <th>Flag_Mine</th>\n",
       "    </tr>\n",
       "  </thead>\n",
       "  <tbody>\n",
       "    <tr>\n",
       "      <th>Pass_IRD</th>\n",
       "      <td>252</td>\n",
       "      <td>1</td>\n",
       "    </tr>\n",
       "    <tr>\n",
       "      <th>Flag_IRD</th>\n",
       "      <td>0</td>\n",
       "      <td>23</td>\n",
       "    </tr>\n",
       "  </tbody>\n",
       "</table>\n",
       "</div>"
      ],
      "text/plain": [
       "          Pass_Mine  Flag_Mine\n",
       "Pass_IRD        252          1\n",
       "Flag_IRD          0         23"
      ]
     },
     "execution_count": 50,
     "metadata": {},
     "output_type": "execute_result"
    }
   ],
   "source": [
    "confusion1 = pass_flag_confusion(actual, pred)\n",
    "confusion1"
   ]
  },
  {
   "cell_type": "code",
   "execution_count": 51,
   "id": "d01acfe3-29c8-44c0-b482-a5ec00682a5a",
   "metadata": {},
   "outputs": [
    {
     "data": {
      "text/html": [
       "<div>\n",
       "<style scoped>\n",
       "    .dataframe tbody tr th:only-of-type {\n",
       "        vertical-align: middle;\n",
       "    }\n",
       "\n",
       "    .dataframe tbody tr th {\n",
       "        vertical-align: top;\n",
       "    }\n",
       "\n",
       "    .dataframe thead th {\n",
       "        text-align: right;\n",
       "    }\n",
       "</style>\n",
       "<table border=\"1\" class=\"dataframe\">\n",
       "  <thead>\n",
       "    <tr style=\"text-align: right;\">\n",
       "      <th></th>\n",
       "      <th>Match</th>\n",
       "      <th>No Match</th>\n",
       "    </tr>\n",
       "  </thead>\n",
       "  <tbody>\n",
       "    <tr>\n",
       "      <th>Pass_IRD</th>\n",
       "      <td>252</td>\n",
       "      <td>1</td>\n",
       "    </tr>\n",
       "    <tr>\n",
       "      <th>Flag_IRD</th>\n",
       "      <td>13</td>\n",
       "      <td>10</td>\n",
       "    </tr>\n",
       "  </tbody>\n",
       "</table>\n",
       "</div>"
      ],
      "text/plain": [
       "          Match  No Match\n",
       "Pass_IRD    252         1\n",
       "Flag_IRD     13        10"
      ]
     },
     "execution_count": 51,
     "metadata": {},
     "output_type": "execute_result"
    }
   ],
   "source": [
    "confusion2 = corr_incorr_confusion(actual, pred)\n",
    "confusion2"
   ]
  },
  {
   "cell_type": "code",
   "execution_count": 52,
   "id": "00db9e88-aec7-4672-9b8e-39c30f1ec65e",
   "metadata": {},
   "outputs": [
    {
     "name": "stdout",
     "output_type": "stream",
     "text": [
      "Pass precision: 1.0\n",
      "Pass recall (Pass accuracy): 0.996\n",
      "\n",
      "\n",
      "Flag precision: 0.958\n",
      "Flag recall: 1.0\n",
      "\n",
      "\n",
      "Flag accuracy: 0.565\n",
      "Overall accuracy: 0.96\n"
     ]
    }
   ],
   "source": [
    "print(\"Pass precision:\", round(pass_precision(confusion1), 3))\n",
    "print(\"Pass recall (Pass accuracy):\", round(pass_recall(confusion1), 3))\n",
    "print('\\n')\n",
    "print(\"Flag precision:\", round(flag_precision(confusion1), 3))\n",
    "print(\"Flag recall:\", round(flag_recall(confusion1), 3))\n",
    "print('\\n')\n",
    "print(\"Flag accuracy:\", round(flag_accuracy(confusion2), 3))\n",
    "print(\"Overall accuracy:\", round(overall_accuracy(confusion2), 3))"
   ]
  },
  {
   "cell_type": "markdown",
   "id": "34773575-3b28-478b-b84a-1ad699ee59ae",
   "metadata": {},
   "source": [
    "## Overall Results"
   ]
  },
  {
   "cell_type": "code",
   "execution_count": 53,
   "id": "1196c106-d4a6-4cfe-8d9b-c25ce46aee0d",
   "metadata": {},
   "outputs": [],
   "source": [
    "all_flu_results = pd.concat([fluA_results, fluB_results, fluC_results, fluD_results], axis = 0)\n",
    "actual = list(all_flu_results['Actual Flag'])\n",
    "pred = list(all_flu_results['My Flag'])"
   ]
  },
  {
   "cell_type": "code",
   "execution_count": 54,
   "id": "197eaf99-fee9-4faa-81a6-178b0fb20fc9",
   "metadata": {},
   "outputs": [
    {
     "data": {
      "text/html": [
       "<div>\n",
       "<style scoped>\n",
       "    .dataframe tbody tr th:only-of-type {\n",
       "        vertical-align: middle;\n",
       "    }\n",
       "\n",
       "    .dataframe tbody tr th {\n",
       "        vertical-align: top;\n",
       "    }\n",
       "\n",
       "    .dataframe thead th {\n",
       "        text-align: right;\n",
       "    }\n",
       "</style>\n",
       "<table border=\"1\" class=\"dataframe\">\n",
       "  <thead>\n",
       "    <tr style=\"text-align: right;\">\n",
       "      <th></th>\n",
       "      <th>Pass_Mine</th>\n",
       "      <th>Flag_Mine</th>\n",
       "    </tr>\n",
       "  </thead>\n",
       "  <tbody>\n",
       "    <tr>\n",
       "      <th>Pass_IRD</th>\n",
       "      <td>1693</td>\n",
       "      <td>140</td>\n",
       "    </tr>\n",
       "    <tr>\n",
       "      <th>Flag_IRD</th>\n",
       "      <td>64</td>\n",
       "      <td>976</td>\n",
       "    </tr>\n",
       "  </tbody>\n",
       "</table>\n",
       "</div>"
      ],
      "text/plain": [
       "          Pass_Mine  Flag_Mine\n",
       "Pass_IRD       1693        140\n",
       "Flag_IRD         64        976"
      ]
     },
     "execution_count": 54,
     "metadata": {},
     "output_type": "execute_result"
    }
   ],
   "source": [
    "confusion1 = pass_flag_confusion(actual, pred)\n",
    "confusion1"
   ]
  },
  {
   "cell_type": "code",
   "execution_count": 55,
   "id": "692cf943-4106-4bec-b8c1-f34358da2a17",
   "metadata": {},
   "outputs": [
    {
     "data": {
      "text/html": [
       "<div>\n",
       "<style scoped>\n",
       "    .dataframe tbody tr th:only-of-type {\n",
       "        vertical-align: middle;\n",
       "    }\n",
       "\n",
       "    .dataframe tbody tr th {\n",
       "        vertical-align: top;\n",
       "    }\n",
       "\n",
       "    .dataframe thead th {\n",
       "        text-align: right;\n",
       "    }\n",
       "</style>\n",
       "<table border=\"1\" class=\"dataframe\">\n",
       "  <thead>\n",
       "    <tr style=\"text-align: right;\">\n",
       "      <th></th>\n",
       "      <th>Match</th>\n",
       "      <th>No Match</th>\n",
       "    </tr>\n",
       "  </thead>\n",
       "  <tbody>\n",
       "    <tr>\n",
       "      <th>Pass_IRD</th>\n",
       "      <td>1693</td>\n",
       "      <td>140</td>\n",
       "    </tr>\n",
       "    <tr>\n",
       "      <th>Flag_IRD</th>\n",
       "      <td>863</td>\n",
       "      <td>177</td>\n",
       "    </tr>\n",
       "  </tbody>\n",
       "</table>\n",
       "</div>"
      ],
      "text/plain": [
       "          Match  No Match\n",
       "Pass_IRD   1693       140\n",
       "Flag_IRD    863       177"
      ]
     },
     "execution_count": 55,
     "metadata": {},
     "output_type": "execute_result"
    }
   ],
   "source": [
    "confusion2 = corr_incorr_confusion(actual, pred)\n",
    "confusion2"
   ]
  },
  {
   "cell_type": "code",
   "execution_count": 56,
   "id": "fbd30c49-71d5-4230-8e59-ec76c17c6ebd",
   "metadata": {},
   "outputs": [
    {
     "name": "stdout",
     "output_type": "stream",
     "text": [
      "Pass precision: 0.964\n",
      "Pass recall (Pass accuracy): 0.924\n",
      "\n",
      "\n",
      "Flag precision: 0.875\n",
      "Flag recall: 0.938\n",
      "\n",
      "\n",
      "Flag accuracy: 0.83\n",
      "Overall accuracy: 0.89\n"
     ]
    }
   ],
   "source": [
    "print(\"Pass precision:\", round(pass_precision(confusion1), 3))\n",
    "print(\"Pass recall (Pass accuracy):\", round(pass_recall(confusion1), 3))\n",
    "print('\\n')\n",
    "print(\"Flag precision:\", round(flag_precision(confusion1), 3))\n",
    "print(\"Flag recall:\", round(flag_recall(confusion1), 3))\n",
    "print('\\n')\n",
    "print(\"Flag accuracy:\", round(flag_accuracy(confusion2), 3))\n",
    "print(\"Overall accuracy:\", round(overall_accuracy(confusion2), 3))"
   ]
  },
  {
   "cell_type": "markdown",
   "id": "f1ccdc5b-2aed-4741-8e70-407604c2e245",
   "metadata": {},
   "source": [
    "# Visualize All of Performance"
   ]
  },
  {
   "cell_type": "code",
   "execution_count": null,
   "id": "a639c2ae-a519-40bc-b6dc-c7453e478d72",
   "metadata": {},
   "outputs": [],
   "source": []
  }
 ],
 "metadata": {
  "kernelspec": {
   "display_name": "Python 3 (ipykernel)",
   "language": "python",
   "name": "python3"
  },
  "language_info": {
   "codemirror_mode": {
    "name": "ipython",
    "version": 3
   },
   "file_extension": ".py",
   "mimetype": "text/x-python",
   "name": "python",
   "nbconvert_exporter": "python",
   "pygments_lexer": "ipython3",
   "version": "3.8.12"
  }
 },
 "nbformat": 4,
 "nbformat_minor": 5
}
