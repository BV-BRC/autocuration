{
 "cells": [
  {
   "cell_type": "markdown",
   "id": "a3d31abe-e518-46f1-8f2d-36e8c4e4fed2",
   "metadata": {},
   "source": [
    "# Analyze Accuracy of the Autocuration Pipeline"
   ]
  },
  {
   "cell_type": "markdown",
   "id": "a8ff7733-bf91-4b82-87bd-f6de00717343",
   "metadata": {},
   "source": [
    "This notebook analyzes the performance of the Influenza Autocuration pipeline on sequences that were already flagged in IRD.  Sequences from species A-D were downloaded from legacy IRD and the pipeline was applied to each species' set of sequences. Results from each set of sequences were saved by generating a table that listed column for 'Accession', 'Actual Flag', and 'My Flag'.  The 'Actual Flag' and 'My Flag' columns could be compared to assess performance.  This said, there are five possible results of performance that need to be kept in mind.  The five possibilities are the following:\n",
    "\n",
    "(1) actual = Pass | mine = Pass\n",
    "\n",
    "(2) actual = Pass | mine = Flag_A\n",
    "\n",
    "(3) actual = Flag_A | mine = Pass\n",
    "\n",
    "(4) actual = Flag_A | mine = Flag_A\n",
    "\n",
    "(5) actual = Flag_A | mine = Flag_B\n",
    "\n",
    "To account for these five possiblities, this performance analysis measures (1) the precision of determining a 'pass' sequence (pass precision), (2) the precision of determing a 'flag' sequence (flag precision), (3) the rate at which actual pass sequences are labeled with pass (pass recall), (4) the rate at which actual flag sequences are labeled with a flag (flag recall), (5) the accuracy of assigning the correct anotation(s) to a flagged sequence (flag accuracy), and finally (6) the overall accuracy in determining the correct annotation."
   ]
  },
  {
   "cell_type": "code",
   "execution_count": 13,
   "id": "f1c7e286-d76f-4bef-ba85-d1fe9fc2797c",
   "metadata": {},
   "outputs": [],
   "source": [
    "import pandas as pd\n",
    "import numpy as np\n",
    "import warnings\n",
    "warnings.filterwarnings(\"ignore\")"
   ]
  },
  {
   "cell_type": "code",
   "execution_count": 7,
   "id": "65b2ab6c-2a36-4ab9-bde6-46f1266af351",
   "metadata": {},
   "outputs": [],
   "source": [
    "def pass_flag_confusion(theirs, mine):\n",
    "    \n",
    "    mat = pd.DataFrame([[0,0],[0,0]], index=['Pass_IRD', 'Flag_IRD'], columns=['Pass_Mine', 'Flag_Mine'])\n",
    "    \n",
    "    for i in range(len(theirs)):\n",
    "        if theirs[i] == 'Pass' and mine[i] == 'Pass':\n",
    "            mat.at['Pass_IRD', 'Pass_Mine'] += 1\n",
    "        elif theirs[i] == 'Pass' and mine[i] != 'Pass':\n",
    "            mat.at['Pass_IRD', 'Flag_Mine'] += 1\n",
    "        elif theirs[i] != 'Pass' and mine[i] == 'Pass':\n",
    "            mat.at['Flag_IRD', 'Pass_Mine'] += 1\n",
    "        elif theirs[i] != 'Pass' and mine[i] != 'Pass':\n",
    "            mat.at['Flag_IRD', 'Flag_Mine'] += 1\n",
    "    \n",
    "    return(mat)\n",
    "\n",
    "\n",
    "def corr_incorr_confusion(theirs, mine):\n",
    "    \n",
    "    mat = pd.DataFrame([[0,0],[0,0]], index=['Pass_IRD', 'Flag_IRD'], columns=['Match', 'No Match'])\n",
    "    \n",
    "    for i in range(len(theirs)):\n",
    "        if theirs[i] == 'Pass' and mine[i] == 'Pass':\n",
    "            mat.at['Pass_IRD', 'Match'] += 1\n",
    "        elif theirs[i] == 'Pass' and mine[i] != 'Pass':\n",
    "            mat.at['Pass_IRD', 'No Match'] += 1\n",
    "        elif theirs[i] != 'Pass' and theirs[i] == mine[i]:\n",
    "            mat.at['Flag_IRD', 'Match'] += 1\n",
    "        elif theirs[i] != 'Pass' and theirs[i] != mine[i]:\n",
    "            mat.at['Flag_IRD', 'No Match'] += 1\n",
    "    \n",
    "    return(mat)    "
   ]
  },
  {
   "cell_type": "code",
   "execution_count": 8,
   "id": "101d87be-0f2b-464f-8b17-e9b9ecccc180",
   "metadata": {},
   "outputs": [],
   "source": [
    "# True Pass / True Pass + False Pass\n",
    "def pass_precision(mat):\n",
    "    \n",
    "    return((mat['Pass_Mine']['Pass_IRD'])/(mat['Pass_Mine']['Pass_IRD'] + mat['Pass_Mine']['Flag_IRD']))\n",
    "\n",
    "# True Pass / True Pass + False Flag (Also 'True Pass Rate' and 'Pass Accuracy')\n",
    "def pass_recall(mat):\n",
    "    \n",
    "    return((mat['Pass_Mine']['Pass_IRD'])/(mat['Pass_Mine']['Pass_IRD'] + mat['Flag_Mine']['Pass_IRD']))\n",
    "\n",
    "# True Flag / True Flag + False Flag\n",
    "def flag_precision(mat):\n",
    "    \n",
    "    return((mat['Flag_Mine']['Flag_IRD'])/(mat['Flag_Mine']['Flag_IRD'] + mat['Flag_Mine']['Pass_IRD']))\n",
    "\n",
    "# True Flag / True Flag + False Pass (Also 'True Flag Rate')\n",
    "def flag_recall(mat):\n",
    "    \n",
    "    return((mat['Flag_Mine']['Flag_IRD'])/(mat['Flag_Mine']['Flag_IRD'] + mat['Pass_Mine']['Flag_IRD'])) \n",
    "\n",
    "# How well flagged sequences actually got designated with the correct flag\n",
    "def flag_accuracy(mat):\n",
    "    \n",
    "    return((mat['Match']['Flag_IRD'])/(mat['Match']['Flag_IRD'] + mat['No Match']['Flag_IRD']))\n",
    "\n",
    "# How well 'My Flag' matches 'Actual Flag'\n",
    "def overall_accuracy(mat):\n",
    "    \n",
    "    return((mat['Match']['Pass_IRD'] + mat['Match']['Flag_IRD'])/(mat['Match']['Pass_IRD'] + mat['Match']['Flag_IRD'] + mat['No Match']['Pass_IRD'] + mat['No Match']['Flag_IRD']))"
   ]
  },
  {
   "cell_type": "markdown",
   "id": "8483c5a0-50d1-4ca6-8379-0981145f7fdc",
   "metadata": {},
   "source": [
    "## Influenza A Results"
   ]
  },
  {
   "cell_type": "code",
   "execution_count": 9,
   "id": "6462feb3-11b7-4581-ab52-6aee2bec28ae",
   "metadata": {},
   "outputs": [],
   "source": [
    "fluA_results = pd.read_csv(\"InfluenzaA_result.csv\")\n",
    "actual = list(fluA_results['Actual Flag'])\n",
    "pred = list(fluA_results['My Flag'])"
   ]
  },
  {
   "cell_type": "code",
   "execution_count": 10,
   "id": "e2220634-6d5f-4dbb-828c-4095b77e0c37",
   "metadata": {},
   "outputs": [
    {
     "data": {
      "text/html": [
       "<div>\n",
       "<style scoped>\n",
       "    .dataframe tbody tr th:only-of-type {\n",
       "        vertical-align: middle;\n",
       "    }\n",
       "\n",
       "    .dataframe tbody tr th {\n",
       "        vertical-align: top;\n",
       "    }\n",
       "\n",
       "    .dataframe thead th {\n",
       "        text-align: right;\n",
       "    }\n",
       "</style>\n",
       "<table border=\"1\" class=\"dataframe\">\n",
       "  <thead>\n",
       "    <tr style=\"text-align: right;\">\n",
       "      <th></th>\n",
       "      <th>Pass_Mine</th>\n",
       "      <th>Flag_Mine</th>\n",
       "    </tr>\n",
       "  </thead>\n",
       "  <tbody>\n",
       "    <tr>\n",
       "      <th>Pass_IRD</th>\n",
       "      <td>988</td>\n",
       "      <td>22</td>\n",
       "    </tr>\n",
       "    <tr>\n",
       "      <th>Flag_IRD</th>\n",
       "      <td>63</td>\n",
       "      <td>738</td>\n",
       "    </tr>\n",
       "  </tbody>\n",
       "</table>\n",
       "</div>"
      ],
      "text/plain": [
       "          Pass_Mine  Flag_Mine\n",
       "Pass_IRD        988         22\n",
       "Flag_IRD         63        738"
      ]
     },
     "execution_count": 10,
     "metadata": {},
     "output_type": "execute_result"
    }
   ],
   "source": [
    "confusion1 = pass_flag_confusion(actual, pred)\n",
    "confusion1"
   ]
  },
  {
   "cell_type": "code",
   "execution_count": 11,
   "id": "beb3e1f0-0355-4bdb-8b08-33d38cf854fa",
   "metadata": {},
   "outputs": [
    {
     "data": {
      "text/html": [
       "<div>\n",
       "<style scoped>\n",
       "    .dataframe tbody tr th:only-of-type {\n",
       "        vertical-align: middle;\n",
       "    }\n",
       "\n",
       "    .dataframe tbody tr th {\n",
       "        vertical-align: top;\n",
       "    }\n",
       "\n",
       "    .dataframe thead th {\n",
       "        text-align: right;\n",
       "    }\n",
       "</style>\n",
       "<table border=\"1\" class=\"dataframe\">\n",
       "  <thead>\n",
       "    <tr style=\"text-align: right;\">\n",
       "      <th></th>\n",
       "      <th>Match</th>\n",
       "      <th>No Match</th>\n",
       "    </tr>\n",
       "  </thead>\n",
       "  <tbody>\n",
       "    <tr>\n",
       "      <th>Pass_IRD</th>\n",
       "      <td>988</td>\n",
       "      <td>22</td>\n",
       "    </tr>\n",
       "    <tr>\n",
       "      <th>Flag_IRD</th>\n",
       "      <td>648</td>\n",
       "      <td>153</td>\n",
       "    </tr>\n",
       "  </tbody>\n",
       "</table>\n",
       "</div>"
      ],
      "text/plain": [
       "          Match  No Match\n",
       "Pass_IRD    988        22\n",
       "Flag_IRD    648       153"
      ]
     },
     "execution_count": 11,
     "metadata": {},
     "output_type": "execute_result"
    }
   ],
   "source": [
    "confusion2 = corr_incorr_confusion(actual, pred)\n",
    "confusion2"
   ]
  },
  {
   "cell_type": "code",
   "execution_count": 12,
   "id": "ac5c9896-2219-4474-a4b8-088daacb78b9",
   "metadata": {},
   "outputs": [
    {
     "name": "stdout",
     "output_type": "stream",
     "text": [
      "Pass precision: 0.94\n",
      "Pass recall (Pass accuracy): 0.978\n",
      "\n",
      "\n",
      "Flag precision: 0.971\n",
      "Flag recall: 0.921\n",
      "\n",
      "\n",
      "Flag accuracy: 0.809\n",
      "Overall accuracy: 0.903\n"
     ]
    }
   ],
   "source": [
    "print(\"Pass precision:\", round(pass_precision(confusion1), 3))\n",
    "print(\"Pass recall (Pass accuracy):\", round(pass_recall(confusion1), 3))\n",
    "print('\\n')\n",
    "print(\"Flag precision:\", round(flag_precision(confusion1), 3))\n",
    "print(\"Flag recall:\", round(flag_recall(confusion1), 3))\n",
    "print('\\n')\n",
    "print(\"Flag accuracy:\", round(flag_accuracy(confusion2), 3))\n",
    "print(\"Overall accuracy:\", round(overall_accuracy(confusion2), 3))"
   ]
  },
  {
   "cell_type": "markdown",
   "id": "ca7362fd-550a-4169-ada0-165b69887b73",
   "metadata": {},
   "source": [
    "## Influenza B Results"
   ]
  },
  {
   "cell_type": "code",
   "execution_count": 14,
   "id": "2e38ab91-5223-47b4-b3f6-3d2309ee0a6c",
   "metadata": {},
   "outputs": [],
   "source": [
    "fluB_results = pd.read_csv(\"InfluenzaB_result.csv\")\n",
    "actual = list(fluB_results['Actual Flag'])\n",
    "pred = list(fluB_results['My Flag'])"
   ]
  },
  {
   "cell_type": "code",
   "execution_count": 15,
   "id": "e6e5e23e-a0d5-442b-832f-b86322b560be",
   "metadata": {},
   "outputs": [
    {
     "data": {
      "text/html": [
       "<div>\n",
       "<style scoped>\n",
       "    .dataframe tbody tr th:only-of-type {\n",
       "        vertical-align: middle;\n",
       "    }\n",
       "\n",
       "    .dataframe tbody tr th {\n",
       "        vertical-align: top;\n",
       "    }\n",
       "\n",
       "    .dataframe thead th {\n",
       "        text-align: right;\n",
       "    }\n",
       "</style>\n",
       "<table border=\"1\" class=\"dataframe\">\n",
       "  <thead>\n",
       "    <tr style=\"text-align: right;\">\n",
       "      <th></th>\n",
       "      <th>Pass_Mine</th>\n",
       "      <th>Flag_Mine</th>\n",
       "    </tr>\n",
       "  </thead>\n",
       "  <tbody>\n",
       "    <tr>\n",
       "      <th>Pass_IRD</th>\n",
       "      <td>401</td>\n",
       "      <td>99</td>\n",
       "    </tr>\n",
       "    <tr>\n",
       "      <th>Flag_IRD</th>\n",
       "      <td>19</td>\n",
       "      <td>197</td>\n",
       "    </tr>\n",
       "  </tbody>\n",
       "</table>\n",
       "</div>"
      ],
      "text/plain": [
       "          Pass_Mine  Flag_Mine\n",
       "Pass_IRD        401         99\n",
       "Flag_IRD         19        197"
      ]
     },
     "execution_count": 15,
     "metadata": {},
     "output_type": "execute_result"
    }
   ],
   "source": [
    "confusion1 = pass_flag_confusion(actual, pred)\n",
    "confusion1"
   ]
  },
  {
   "cell_type": "code",
   "execution_count": 16,
   "id": "adb79a16-7cba-43f9-9142-17be29a6588f",
   "metadata": {},
   "outputs": [
    {
     "data": {
      "text/html": [
       "<div>\n",
       "<style scoped>\n",
       "    .dataframe tbody tr th:only-of-type {\n",
       "        vertical-align: middle;\n",
       "    }\n",
       "\n",
       "    .dataframe tbody tr th {\n",
       "        vertical-align: top;\n",
       "    }\n",
       "\n",
       "    .dataframe thead th {\n",
       "        text-align: right;\n",
       "    }\n",
       "</style>\n",
       "<table border=\"1\" class=\"dataframe\">\n",
       "  <thead>\n",
       "    <tr style=\"text-align: right;\">\n",
       "      <th></th>\n",
       "      <th>Match</th>\n",
       "      <th>No Match</th>\n",
       "    </tr>\n",
       "  </thead>\n",
       "  <tbody>\n",
       "    <tr>\n",
       "      <th>Pass_IRD</th>\n",
       "      <td>401</td>\n",
       "      <td>99</td>\n",
       "    </tr>\n",
       "    <tr>\n",
       "      <th>Flag_IRD</th>\n",
       "      <td>184</td>\n",
       "      <td>32</td>\n",
       "    </tr>\n",
       "  </tbody>\n",
       "</table>\n",
       "</div>"
      ],
      "text/plain": [
       "          Match  No Match\n",
       "Pass_IRD    401        99\n",
       "Flag_IRD    184        32"
      ]
     },
     "execution_count": 16,
     "metadata": {},
     "output_type": "execute_result"
    }
   ],
   "source": [
    "confusion2 = corr_incorr_confusion(actual, pred)\n",
    "confusion2"
   ]
  },
  {
   "cell_type": "code",
   "execution_count": 17,
   "id": "e3f0d94c-c9d5-4374-8a98-6b0e5d621b48",
   "metadata": {},
   "outputs": [
    {
     "name": "stdout",
     "output_type": "stream",
     "text": [
      "Pass precision: 0.955\n",
      "Pass recall (Pass accuracy): 0.802\n",
      "\n",
      "\n",
      "Flag precision: 0.666\n",
      "Flag recall: 0.912\n",
      "\n",
      "\n",
      "Flag accuracy: 0.852\n",
      "Overall accuracy: 0.817\n"
     ]
    }
   ],
   "source": [
    "print(\"Pass precision:\", round(pass_precision(confusion1), 3))\n",
    "print(\"Pass recall (Pass accuracy):\", round(pass_recall(confusion1), 3))\n",
    "print('\\n')\n",
    "print(\"Flag precision:\", round(flag_precision(confusion1), 3))\n",
    "print(\"Flag recall:\", round(flag_recall(confusion1), 3))\n",
    "print('\\n')\n",
    "print(\"Flag accuracy:\", round(flag_accuracy(confusion2), 3))\n",
    "print(\"Overall accuracy:\", round(overall_accuracy(confusion2), 3))"
   ]
  },
  {
   "cell_type": "markdown",
   "id": "7b767240-e009-414b-b38d-1d46083d8e2d",
   "metadata": {},
   "source": [
    "## Influenza C Results"
   ]
  },
  {
   "cell_type": "code",
   "execution_count": 18,
   "id": "1d3fae19-d232-43f7-a6be-89f9427f2628",
   "metadata": {},
   "outputs": [],
   "source": [
    "fluC_results = pd.read_csv(\"InfluenzaC_result.csv\")\n",
    "actual = list(fluC_results['Actual Flag'])\n",
    "pred = list(fluC_results['My Flag'])"
   ]
  },
  {
   "cell_type": "code",
   "execution_count": 19,
   "id": "cd0008af-ed58-46ea-a0c2-d51f7aa825c9",
   "metadata": {},
   "outputs": [
    {
     "data": {
      "text/html": [
       "<div>\n",
       "<style scoped>\n",
       "    .dataframe tbody tr th:only-of-type {\n",
       "        vertical-align: middle;\n",
       "    }\n",
       "\n",
       "    .dataframe tbody tr th {\n",
       "        vertical-align: top;\n",
       "    }\n",
       "\n",
       "    .dataframe thead th {\n",
       "        text-align: right;\n",
       "    }\n",
       "</style>\n",
       "<table border=\"1\" class=\"dataframe\">\n",
       "  <thead>\n",
       "    <tr style=\"text-align: right;\">\n",
       "      <th></th>\n",
       "      <th>Pass_Mine</th>\n",
       "      <th>Flag_Mine</th>\n",
       "    </tr>\n",
       "  </thead>\n",
       "  <tbody>\n",
       "    <tr>\n",
       "      <th>Pass_IRD</th>\n",
       "      <td>69</td>\n",
       "      <td>1</td>\n",
       "    </tr>\n",
       "    <tr>\n",
       "      <th>Flag_IRD</th>\n",
       "      <td>0</td>\n",
       "      <td>0</td>\n",
       "    </tr>\n",
       "  </tbody>\n",
       "</table>\n",
       "</div>"
      ],
      "text/plain": [
       "          Pass_Mine  Flag_Mine\n",
       "Pass_IRD         69          1\n",
       "Flag_IRD          0          0"
      ]
     },
     "execution_count": 19,
     "metadata": {},
     "output_type": "execute_result"
    }
   ],
   "source": [
    "confusion1 = pass_flag_confusion(actual, pred)\n",
    "confusion1"
   ]
  },
  {
   "cell_type": "code",
   "execution_count": 20,
   "id": "5e3242f3-7491-4507-8fcf-ac5f7be73125",
   "metadata": {},
   "outputs": [
    {
     "data": {
      "text/html": [
       "<div>\n",
       "<style scoped>\n",
       "    .dataframe tbody tr th:only-of-type {\n",
       "        vertical-align: middle;\n",
       "    }\n",
       "\n",
       "    .dataframe tbody tr th {\n",
       "        vertical-align: top;\n",
       "    }\n",
       "\n",
       "    .dataframe thead th {\n",
       "        text-align: right;\n",
       "    }\n",
       "</style>\n",
       "<table border=\"1\" class=\"dataframe\">\n",
       "  <thead>\n",
       "    <tr style=\"text-align: right;\">\n",
       "      <th></th>\n",
       "      <th>Match</th>\n",
       "      <th>No Match</th>\n",
       "    </tr>\n",
       "  </thead>\n",
       "  <tbody>\n",
       "    <tr>\n",
       "      <th>Pass_IRD</th>\n",
       "      <td>69</td>\n",
       "      <td>1</td>\n",
       "    </tr>\n",
       "    <tr>\n",
       "      <th>Flag_IRD</th>\n",
       "      <td>0</td>\n",
       "      <td>0</td>\n",
       "    </tr>\n",
       "  </tbody>\n",
       "</table>\n",
       "</div>"
      ],
      "text/plain": [
       "          Match  No Match\n",
       "Pass_IRD     69         1\n",
       "Flag_IRD      0         0"
      ]
     },
     "execution_count": 20,
     "metadata": {},
     "output_type": "execute_result"
    }
   ],
   "source": [
    "confusion2 = corr_incorr_confusion(actual, pred)\n",
    "confusion2"
   ]
  },
  {
   "cell_type": "code",
   "execution_count": 21,
   "id": "cb7ca7e2-e3f6-4d9a-ab12-20054375f0fd",
   "metadata": {},
   "outputs": [
    {
     "name": "stdout",
     "output_type": "stream",
     "text": [
      "Pass precision: 1.0\n",
      "Pass recall (Pass accuracy): 0.986\n",
      "\n",
      "\n",
      "Flag precision: 0.0\n",
      "Flag recall: nan\n",
      "\n",
      "\n",
      "Flag accuracy: nan\n",
      "Overall accuracy: 0.986\n"
     ]
    }
   ],
   "source": [
    "print(\"Pass precision:\", round(pass_precision(confusion1), 3))\n",
    "print(\"Pass recall (Pass accuracy):\", round(pass_recall(confusion1), 3))\n",
    "print('\\n')\n",
    "print(\"Flag precision:\", round(flag_precision(confusion1), 3))\n",
    "print(\"Flag recall:\", round(flag_recall(confusion1), 3))\n",
    "print('\\n')\n",
    "print(\"Flag accuracy:\", round(flag_accuracy(confusion2), 3))\n",
    "print(\"Overall accuracy:\", round(overall_accuracy(confusion2), 3))"
   ]
  },
  {
   "cell_type": "markdown",
   "id": "f95833da-e11b-4f97-a4fe-2c833f847f05",
   "metadata": {},
   "source": [
    "## Influenza D Results"
   ]
  },
  {
   "cell_type": "code",
   "execution_count": 22,
   "id": "d9a51406-f766-4f45-ab1f-b1007910137c",
   "metadata": {},
   "outputs": [],
   "source": [
    "fluD_results = pd.read_csv(\"InfluenzaD_result.csv\")\n",
    "actual = list(fluD_results['Actual Flag'])\n",
    "pred = list(fluD_results['My Flag'])"
   ]
  },
  {
   "cell_type": "code",
   "execution_count": 23,
   "id": "e7847822-f795-4bd8-9778-4daa44ddd3cf",
   "metadata": {},
   "outputs": [
    {
     "data": {
      "text/html": [
       "<div>\n",
       "<style scoped>\n",
       "    .dataframe tbody tr th:only-of-type {\n",
       "        vertical-align: middle;\n",
       "    }\n",
       "\n",
       "    .dataframe tbody tr th {\n",
       "        vertical-align: top;\n",
       "    }\n",
       "\n",
       "    .dataframe thead th {\n",
       "        text-align: right;\n",
       "    }\n",
       "</style>\n",
       "<table border=\"1\" class=\"dataframe\">\n",
       "  <thead>\n",
       "    <tr style=\"text-align: right;\">\n",
       "      <th></th>\n",
       "      <th>Pass_Mine</th>\n",
       "      <th>Flag_Mine</th>\n",
       "    </tr>\n",
       "  </thead>\n",
       "  <tbody>\n",
       "    <tr>\n",
       "      <th>Pass_IRD</th>\n",
       "      <td>253</td>\n",
       "      <td>0</td>\n",
       "    </tr>\n",
       "    <tr>\n",
       "      <th>Flag_IRD</th>\n",
       "      <td>0</td>\n",
       "      <td>23</td>\n",
       "    </tr>\n",
       "  </tbody>\n",
       "</table>\n",
       "</div>"
      ],
      "text/plain": [
       "          Pass_Mine  Flag_Mine\n",
       "Pass_IRD        253          0\n",
       "Flag_IRD          0         23"
      ]
     },
     "execution_count": 23,
     "metadata": {},
     "output_type": "execute_result"
    }
   ],
   "source": [
    "confusion1 = pass_flag_confusion(actual, pred)\n",
    "confusion1"
   ]
  },
  {
   "cell_type": "code",
   "execution_count": 24,
   "id": "1aa07e0e-6a32-4a44-acd4-b13ab9fa9fd5",
   "metadata": {},
   "outputs": [
    {
     "data": {
      "text/html": [
       "<div>\n",
       "<style scoped>\n",
       "    .dataframe tbody tr th:only-of-type {\n",
       "        vertical-align: middle;\n",
       "    }\n",
       "\n",
       "    .dataframe tbody tr th {\n",
       "        vertical-align: top;\n",
       "    }\n",
       "\n",
       "    .dataframe thead th {\n",
       "        text-align: right;\n",
       "    }\n",
       "</style>\n",
       "<table border=\"1\" class=\"dataframe\">\n",
       "  <thead>\n",
       "    <tr style=\"text-align: right;\">\n",
       "      <th></th>\n",
       "      <th>Match</th>\n",
       "      <th>No Match</th>\n",
       "    </tr>\n",
       "  </thead>\n",
       "  <tbody>\n",
       "    <tr>\n",
       "      <th>Pass_IRD</th>\n",
       "      <td>253</td>\n",
       "      <td>0</td>\n",
       "    </tr>\n",
       "    <tr>\n",
       "      <th>Flag_IRD</th>\n",
       "      <td>13</td>\n",
       "      <td>10</td>\n",
       "    </tr>\n",
       "  </tbody>\n",
       "</table>\n",
       "</div>"
      ],
      "text/plain": [
       "          Match  No Match\n",
       "Pass_IRD    253         0\n",
       "Flag_IRD     13        10"
      ]
     },
     "execution_count": 24,
     "metadata": {},
     "output_type": "execute_result"
    }
   ],
   "source": [
    "confusion2 = corr_incorr_confusion(actual, pred)\n",
    "confusion2"
   ]
  },
  {
   "cell_type": "code",
   "execution_count": 25,
   "id": "b08fd82c-6741-40be-b0df-ab9c8d64c4ea",
   "metadata": {},
   "outputs": [
    {
     "name": "stdout",
     "output_type": "stream",
     "text": [
      "Pass precision: 1.0\n",
      "Pass recall (Pass accuracy): 1.0\n",
      "\n",
      "\n",
      "Flag precision: 1.0\n",
      "Flag recall: 1.0\n",
      "\n",
      "\n",
      "Flag accuracy: 0.565\n",
      "Overall accuracy: 0.964\n"
     ]
    }
   ],
   "source": [
    "print(\"Pass precision:\", round(pass_precision(confusion1), 3))\n",
    "print(\"Pass recall (Pass accuracy):\", round(pass_recall(confusion1), 3))\n",
    "print('\\n')\n",
    "print(\"Flag precision:\", round(flag_precision(confusion1), 3))\n",
    "print(\"Flag recall:\", round(flag_recall(confusion1), 3))\n",
    "print('\\n')\n",
    "print(\"Flag accuracy:\", round(flag_accuracy(confusion2), 3))\n",
    "print(\"Overall accuracy:\", round(overall_accuracy(confusion2), 3))"
   ]
  },
  {
   "cell_type": "markdown",
   "id": "9d88abfe-d95f-49a9-a71e-424f65ba3e47",
   "metadata": {},
   "source": [
    "## Overall Results"
   ]
  },
  {
   "cell_type": "code",
   "execution_count": 27,
   "id": "e262b6b1-e31a-43e7-8dea-ec3f7c20bf25",
   "metadata": {},
   "outputs": [],
   "source": [
    "all_flu_results = pd.concat([fluA_results, fluB_results, fluC_results, fluD_results], axis = 0)\n",
    "actual = list(all_flu_results['Actual Flag'])\n",
    "pred = list(all_flu_results['My Flag'])"
   ]
  },
  {
   "cell_type": "code",
   "execution_count": 28,
   "id": "66a33629-ab7e-4112-84c4-887687a845bf",
   "metadata": {},
   "outputs": [
    {
     "data": {
      "text/html": [
       "<div>\n",
       "<style scoped>\n",
       "    .dataframe tbody tr th:only-of-type {\n",
       "        vertical-align: middle;\n",
       "    }\n",
       "\n",
       "    .dataframe tbody tr th {\n",
       "        vertical-align: top;\n",
       "    }\n",
       "\n",
       "    .dataframe thead th {\n",
       "        text-align: right;\n",
       "    }\n",
       "</style>\n",
       "<table border=\"1\" class=\"dataframe\">\n",
       "  <thead>\n",
       "    <tr style=\"text-align: right;\">\n",
       "      <th></th>\n",
       "      <th>Pass_Mine</th>\n",
       "      <th>Flag_Mine</th>\n",
       "    </tr>\n",
       "  </thead>\n",
       "  <tbody>\n",
       "    <tr>\n",
       "      <th>Pass_IRD</th>\n",
       "      <td>1711</td>\n",
       "      <td>122</td>\n",
       "    </tr>\n",
       "    <tr>\n",
       "      <th>Flag_IRD</th>\n",
       "      <td>82</td>\n",
       "      <td>958</td>\n",
       "    </tr>\n",
       "  </tbody>\n",
       "</table>\n",
       "</div>"
      ],
      "text/plain": [
       "          Pass_Mine  Flag_Mine\n",
       "Pass_IRD       1711        122\n",
       "Flag_IRD         82        958"
      ]
     },
     "execution_count": 28,
     "metadata": {},
     "output_type": "execute_result"
    }
   ],
   "source": [
    "confusion1 = pass_flag_confusion(actual, pred)\n",
    "confusion1"
   ]
  },
  {
   "cell_type": "code",
   "execution_count": 29,
   "id": "6afa9f61-2762-4f74-944a-a4550464490c",
   "metadata": {},
   "outputs": [
    {
     "data": {
      "text/html": [
       "<div>\n",
       "<style scoped>\n",
       "    .dataframe tbody tr th:only-of-type {\n",
       "        vertical-align: middle;\n",
       "    }\n",
       "\n",
       "    .dataframe tbody tr th {\n",
       "        vertical-align: top;\n",
       "    }\n",
       "\n",
       "    .dataframe thead th {\n",
       "        text-align: right;\n",
       "    }\n",
       "</style>\n",
       "<table border=\"1\" class=\"dataframe\">\n",
       "  <thead>\n",
       "    <tr style=\"text-align: right;\">\n",
       "      <th></th>\n",
       "      <th>Match</th>\n",
       "      <th>No Match</th>\n",
       "    </tr>\n",
       "  </thead>\n",
       "  <tbody>\n",
       "    <tr>\n",
       "      <th>Pass_IRD</th>\n",
       "      <td>1711</td>\n",
       "      <td>122</td>\n",
       "    </tr>\n",
       "    <tr>\n",
       "      <th>Flag_IRD</th>\n",
       "      <td>845</td>\n",
       "      <td>195</td>\n",
       "    </tr>\n",
       "  </tbody>\n",
       "</table>\n",
       "</div>"
      ],
      "text/plain": [
       "          Match  No Match\n",
       "Pass_IRD   1711       122\n",
       "Flag_IRD    845       195"
      ]
     },
     "execution_count": 29,
     "metadata": {},
     "output_type": "execute_result"
    }
   ],
   "source": [
    "confusion2 = corr_incorr_confusion(actual, pred)\n",
    "confusion2"
   ]
  },
  {
   "cell_type": "code",
   "execution_count": 30,
   "id": "d86094ac-c0da-4a1f-99bb-07d372f339cd",
   "metadata": {},
   "outputs": [
    {
     "name": "stdout",
     "output_type": "stream",
     "text": [
      "Pass precision: 0.954\n",
      "Pass recall (Pass accuracy): 0.933\n",
      "\n",
      "\n",
      "Flag precision: 0.887\n",
      "Flag recall: 0.921\n",
      "\n",
      "\n",
      "Flag accuracy: 0.812\n",
      "Overall accuracy: 0.89\n"
     ]
    }
   ],
   "source": [
    "print(\"Pass precision:\", round(pass_precision(confusion1), 3))\n",
    "print(\"Pass recall (Pass accuracy):\", round(pass_recall(confusion1), 3))\n",
    "print('\\n')\n",
    "print(\"Flag precision:\", round(flag_precision(confusion1), 3))\n",
    "print(\"Flag recall:\", round(flag_recall(confusion1), 3))\n",
    "print('\\n')\n",
    "print(\"Flag accuracy:\", round(flag_accuracy(confusion2), 3))\n",
    "print(\"Overall accuracy:\", round(overall_accuracy(confusion2), 3))"
   ]
  },
  {
   "cell_type": "code",
   "execution_count": null,
   "id": "3ccd2925-ec5c-4f57-b65d-265239fd5c8a",
   "metadata": {},
   "outputs": [],
   "source": []
  }
 ],
 "metadata": {
  "kernelspec": {
   "display_name": "Python 3 (ipykernel)",
   "language": "python",
   "name": "python3"
  },
  "language_info": {
   "codemirror_mode": {
    "name": "ipython",
    "version": 3
   },
   "file_extension": ".py",
   "mimetype": "text/x-python",
   "name": "python",
   "nbconvert_exporter": "python",
   "pygments_lexer": "ipython3",
   "version": "3.8.12"
  }
 },
 "nbformat": 4,
 "nbformat_minor": 5
}
